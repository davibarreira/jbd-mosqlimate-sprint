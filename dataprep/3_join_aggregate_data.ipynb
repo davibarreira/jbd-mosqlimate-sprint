{
 "cells": [
  {
   "cell_type": "code",
   "execution_count": 6,
   "id": "744025be",
   "metadata": {},
   "outputs": [],
   "source": [
    "import polars as pl "
   ]
  },
  {
   "cell_type": "markdown",
   "id": "add07244",
   "metadata": {},
   "source": [
    "### Read data and aggregate by uf"
   ]
  },
  {
   "cell_type": "code",
   "execution_count": 7,
   "id": "5663f94a",
   "metadata": {},
   "outputs": [],
   "source": [
    "data = pl.read_csv('../data/1_raw/dengue.csv.gz')\n",
    "data = data.with_columns(\n",
    "    pl.col('date').str.to_date().alias('date')\n",
    ")\n",
    "data = data.group_by(['date','epiweek','uf','train_1', 'target_1', 'train_2', 'target_2', 'train_3', 'target_3']).agg(\n",
    "    pl.col('casos').sum().alias('casos'),\n",
    ")\n",
    "\n",
    "enso = pl.read_parquet('../data/2_inter/enso_interpolated.parquet')\n",
    "geo_uf = pl.read_parquet('../data/2_inter/geodata_uf.parquet')"
   ]
  },
  {
   "cell_type": "markdown",
   "id": "2df37181",
   "metadata": {},
   "source": [
    "### Aggregate data"
   ]
  },
  {
   "cell_type": "code",
   "execution_count": 8,
   "id": "5e02d502",
   "metadata": {},
   "outputs": [],
   "source": [
    "data = data.join(enso[['date','enso']], on='date', how='left').join(geo_uf, on='uf', how='left')"
   ]
  },
  {
   "cell_type": "code",
   "execution_count": 9,
   "id": "89a04693",
   "metadata": {},
   "outputs": [],
   "source": [
    "data.write_parquet('../data/3_primary/complete_dataset.parquet')"
   ]
  }
 ],
 "metadata": {
  "kernelspec": {
   "display_name": "sprint2025",
   "language": "python",
   "name": "sprint2025"
  },
  "language_info": {
   "codemirror_mode": {
    "name": "ipython",
    "version": 3
   },
   "file_extension": ".py",
   "mimetype": "text/x-python",
   "name": "python",
   "nbconvert_exporter": "python",
   "pygments_lexer": "ipython3",
   "version": "3.11.11"
  }
 },
 "nbformat": 4,
 "nbformat_minor": 5
}
