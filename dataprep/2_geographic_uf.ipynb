{
 "cells": [
  {
   "cell_type": "code",
   "execution_count": 15,
   "id": "acc39d00",
   "metadata": {},
   "outputs": [],
   "source": [
    "import geopandas as gpd\n",
    "import polars as pl"
   ]
  },
  {
   "cell_type": "code",
   "execution_count": 16,
   "id": "ba0a69f6",
   "metadata": {},
   "outputs": [],
   "source": [
    "def process_geo_data_uf(data: gpd.GeoDataFrame) -> pl.DataFrame:\n",
    "    data = data.set_geometry(data.representative_point())\n",
    "    data['uf_latitude'] = data.geometry.x\n",
    "    data['uf_longitude'] = data.geometry.y\n",
    "    result = pl.DataFrame(data[['uf','uf_latitude','uf_longitude']])\n",
    "    return result"
   ]
  },
  {
   "cell_type": "code",
   "execution_count": 17,
   "id": "60d0ece3",
   "metadata": {},
   "outputs": [],
   "source": [
    "uf = gpd.read_file('../data/1_raw/geodata_uf.geojson')\n",
    "uf = process_geo_data_uf(uf)\n",
    "uf.write_parquet('../data/2_inter/geodata_uf.parquet')"
   ]
  }
 ],
 "metadata": {
  "kernelspec": {
   "display_name": "sprint2025",
   "language": "python",
   "name": "sprint2025"
  },
  "language_info": {
   "codemirror_mode": {
    "name": "ipython",
    "version": 3
   },
   "file_extension": ".py",
   "mimetype": "text/x-python",
   "name": "python",
   "nbconvert_exporter": "python",
   "pygments_lexer": "ipython3",
   "version": "3.11.11"
  }
 },
 "nbformat": 4,
 "nbformat_minor": 5
}
