{
 "cells": [
  {
   "cell_type": "markdown",
   "id": "8971f979-8b92-401c-bd90-224d97fc668b",
   "metadata": {},
   "source": [
    "## Post-Processing\n",
    "\n",
    "After training and forecasting, we need to do a post-processing in order to guarantee that our output forecast makes sense.\n",
    "For example, our forecast must never go below zero, as our target is number of dengue cases, which is either zero or larger.\n",
    "Another point is that our quantiles must be monotonic, i.e. if qunatile `0.5` forecasts a value of `20`, then quantile `0.6` must forecast\n",
    "a value larger than `20`."
   ]
  },
  {
   "cell_type": "code",
   "execution_count": 40,
   "id": "ae0f5514-285d-460b-8c49-3dc1e600ba35",
   "metadata": {},
   "outputs": [],
   "source": [
    "import polars as pl\n",
    "import numpy as np"
   ]
  },
  {
   "cell_type": "markdown",
   "id": "7170560a-a66b-49e4-9fbf-f12d7a3b90dd",
   "metadata": {},
   "source": [
    "### Getting the intervals required by the sprint"
   ]
  },
  {
   "cell_type": "code",
   "execution_count": 41,
   "id": "e7484e87-2a6c-4ea1-b084-76879dca6df4",
   "metadata": {},
   "outputs": [],
   "source": [
    "intervals = [0.5,0.8,0.9,0.95]\n",
    "\n",
    "quantiles = [[np.round(0.5 - i/2,decimals=3), np.round(0.5 + i/2,decimals=3)]for i in intervals]\n",
    "qs = [str(i) for i in [0.1,0.2,0.3,0.4,0.5,0.6,0.7,0.8,0.9]]\n",
    "\n",
    "def estimate_quantile(predictions,target_quantile):\n",
    "    \"\"\"\n",
    "    Estimate the value of a given quantile based on the predictions.\n",
    "\n",
    "    Parameters:\n",
    "    predictions (DataFrame): A DataFrame containing quantile predictions.\n",
    "                                     Columns should represent quantile levels (e.g., '0.1', '0.2', ..., '0.9').\n",
    "    target_quantile (float): The quantile level to estimate (e.g., 0.25, 0.75).\n",
    "\n",
    "    Returns:\n",
    "    float: The estimated value for the target quantile, interpolated if necessary.\n",
    "\n",
    "    \"\"\"\n",
    "    quantile_values = np.arange(0.1,1.0, 0.1)\n",
    "    if target_quantile in quantile_values:\n",
    "        return predictions[str(target_quantile)]\n",
    "    if target_quantile < 0.1:\n",
    "        return predictions['0.1'] - (0.1 - target_quantile)*(predictions['0.2'] - predictions['0.1'])/0.1\n",
    "    if target_quantile > 0.9:\n",
    "        return predictions['0.9'] + (target_quantile - 0.9)*(predictions['0.9'] - predictions['0.8'])/0.1\n",
    "\n",
    "    lower_bound = np.round(max(q for q in quantile_values if q < target_quantile),decimals=2)\n",
    "    upper_bound = np.round(min(q for q in quantile_values if q > target_quantile),decimals=2)\n",
    "    lower_values = predictions[str(lower_bound)]\n",
    "    upper_values = predictions[str(upper_bound)]\n",
    "    slope = (upper_values - lower_values) / (upper_bound - lower_bound)\n",
    "    return lower_values + slope * (target_quantile - lower_bound)\n",
    "\n"
   ]
  },
  {
   "cell_type": "code",
   "execution_count": 42,
   "id": "9e175edf-5c18-4c95-8145-00c7e7ce70e0",
   "metadata": {},
   "outputs": [],
   "source": [
    "# sort quantiles\n",
    "def sort_quantiles(row: dict, prepend='s') -> dict:\n",
    "    quantile_cols =  [\"0.1\",\"0.2\",\"0.3\",\"0.4\",\"0.5\",\"0.6\",\"0.7\",\"0.8\",\"0.9\"]\n",
    "    # extract quantile values\n",
    "    sorted_vals = sorted(row[q] for q in quantile_cols)\n",
    "    # return a dict mapping back to the same columns\n",
    "    return {prepend+col: val for col, val in zip(quantile_cols, sorted_vals)}\n",
    "\n",
    "\n",
    "def apply_sort_quantiles(predictions, qs=['0.1','0.2','0.3','0.4','0.5','0.6','0.7','0.8','0.9']):\n",
    "    pred = predictions.with_columns(\n",
    "        pl.struct(qs).map_elements(sort_quantiles).alias(\"sorted_struct\")\n",
    "    ).unnest(\"sorted_struct\")\n",
    "\n",
    "    sqs = ['s'+q for q in qs]\n",
    "    pred = pred.with_columns(\n",
    "        pl.struct(pred.columns)\n",
    "            .map_elements(lambda row: check_monotonicity(row,sqs),return_dtype=bool).alias('mono')\n",
    "    )\n",
    "    return pred\n",
    "\n",
    "\n",
    "# Check if the sum of the orignal quantiles matches with the sorted\n",
    "def check_sum_quantiles(validation, qs=['0.1','0.2','0.3','0.4','0.5','0.6','0.7','0.8','0.9']):\n",
    "    print(len(validation.with_columns(\n",
    "        pl.sum_horizontal([pl.col(q) for q in qs]).alias('row_sum'),\n",
    "        pl.sum_horizontal([pl.col('s'+q) for q in qs]).alias('row_sum2'),\n",
    "    ).filter(\n",
    "        np.abs(pl.col('row_sum') - pl.col('row_sum2')) > 0.1\n",
    "    )) == 0)\n",
    "\n",
    "\n",
    "    # Check if all are monotonic\n",
    "    return validation.filter(~pl.col('mono'))\n",
    "\n"
   ]
  },
  {
   "cell_type": "code",
   "execution_count": 43,
   "id": "82d8bbaa",
   "metadata": {},
   "outputs": [],
   "source": [
    "def post_process_validation(validation):\n",
    "    validation = apply_sort_quantiles(validation)\n",
    "    validation = validation.drop(qs).rename({f's{q}': q for q in qs})\n",
    "\n",
    "    # compute quantiles for the desired quantiles\n",
    "    for q in np.hstack(quantiles):\n",
    "        validation = validation.with_columns(\n",
    "            pl.struct(validation.columns).map_elements(lambda row: estimate_quantile(row, target_quantile=q),return_dtype=float).alias(str(q))\n",
    "        )\n",
    "\n",
    "    # set negative values to 0\n",
    "    qcols = validation.columns[4:]\n",
    "    validation=validation.with_columns([\n",
    "        pl.when(pl.col(q) < 0).then(0).otherwise(pl.col(q)).alias(q)\n",
    "        for q in qcols\n",
    "    ])\n",
    "\n",
    "\n",
    "    # rename columns to match the submission format\n",
    "    # lower_95\tlower_90\tlower_80\tlower_50\tpred\tupper_50\tupper_80\tupper_90\tupper_95\tdate\n",
    "    # [2.5, 5, 10, 25, 50, 75, 90, 95, 97.5]\n",
    "    columns_submission = ['lower_95','lower_90','lower_80','lower_50','pred','upper_50','upper_80','upper_90','upper_95','date']\n",
    "    validation = validation.rename(\n",
    "        {\n",
    "            '0.025':'lower_95',\n",
    "            '0.05' :'lower_90',\n",
    "            '0.1'  :'lower_80',\n",
    "            '0.25' :'lower_50',\n",
    "            '0.5':'pred',\n",
    "            '0.75' :'upper_50',\n",
    "            '0.9'  :'upper_80',\n",
    "            '0.95' :'upper_90',\n",
    "            '0.975':'upper_95',\n",
    "        })[columns_submission]\n",
    "    return validation"
   ]
  },
  {
   "cell_type": "code",
   "execution_count": 44,
   "id": "a3bcca7f-c168-40e6-972a-8ee9f2d5d840",
   "metadata": {},
   "outputs": [],
   "source": [
    "# import predictions\n",
    "validation1 = pl.read_parquet('../data/4_model_output/validation_sprint_1.parquet').with_columns(\n",
    "    pl.col(\"date\").cast(pl.Date)\n",
    ")\n",
    "validation2 = pl.read_parquet('../data/4_model_output/validation_sprint_2.parquet').with_columns(\n",
    "    pl.col(\"date\").cast(pl.Date)\n",
    ")\n",
    "validation3 = pl.read_parquet('../data/4_model_output/validation_sprint_3.parquet').with_columns(\n",
    "    pl.col(\"date\").cast(pl.Date)\n",
    ")"
   ]
  },
  {
   "cell_type": "code",
   "execution_count": 45,
   "id": "6b48566c",
   "metadata": {},
   "outputs": [
    {
     "name": "stderr",
     "output_type": "stream",
     "text": [
      "/var/folders/sz/kh2xcmy51n70hznv18vzsqxr0000gn/T/ipykernel_91695/74295172.py:11: MapWithoutReturnDtypeWarning: Calling `map_elements` without specifying `return_dtype` can lead to unpredictable results. Specify `return_dtype` to silence this warning.\n",
      "  pred = predictions.with_columns(\n",
      "/var/folders/sz/kh2xcmy51n70hznv18vzsqxr0000gn/T/ipykernel_91695/74295172.py:11: MapWithoutReturnDtypeWarning: Calling `map_elements` without specifying `return_dtype` can lead to unpredictable results. Specify `return_dtype` to silence this warning.\n",
      "  pred = predictions.with_columns(\n",
      "/var/folders/sz/kh2xcmy51n70hznv18vzsqxr0000gn/T/ipykernel_91695/74295172.py:11: MapWithoutReturnDtypeWarning: Calling `map_elements` without specifying `return_dtype` can lead to unpredictable results. Specify `return_dtype` to silence this warning.\n",
      "  pred = predictions.with_columns(\n"
     ]
    }
   ],
   "source": [
    "submission1 = post_process_validation(validation1)\n",
    "submission2 = post_process_validation(validation2)\n",
    "submission3 = post_process_validation(validation3)"
   ]
  },
  {
   "cell_type": "code",
   "execution_count": 46,
   "id": "44a53aed",
   "metadata": {},
   "outputs": [
    {
     "name": "stdout",
     "output_type": "stream",
     "text": [
      "True\n",
      "True\n",
      "True\n",
      "[True, True, True, True, True, True, True, True, True]\n",
      "[True, True, True, True, True, True, True, True, True]\n",
      "[True, True, True, True, True, True, True, True, True]\n"
     ]
    }
   ],
   "source": [
    "def check_monotonicity(row, qs):\n",
    "    vals = [row[q] for q in qs]\n",
    "    return np.all(np.diff(vals) >= 0)\n",
    "\n",
    "def apply_check_monotonicity(predictions, qs=['0.1','0.2','0.3','0.4','0.5','0.6','0.7','0.8','0.9']):\n",
    "    predictions = predictions.with_columns(\n",
    "        pl.struct(predictions.columns)\n",
    "            .map_elements(lambda row: check_monotonicity(row,qs),return_dtype=bool).alias('mono')\n",
    "    )\n",
    "    return predictions.filter(~pl.col('mono')).shape[0] == 0\n",
    "\n",
    "\n",
    "def apply_check_nonnegative(submission, qs=['lower_95','lower_90','lower_80','lower_50','pred','upper_50','upper_80','upper_90','upper_95']):\n",
    "    return [submission.filter(pl.col(q) < 0).shape[0] == 0 for q in qs]\n",
    "\n",
    "print(apply_check_monotonicity(submission1, qs=['lower_95','lower_90','lower_80','lower_50','pred','upper_50','upper_80','upper_90','upper_95']))\n",
    "print(apply_check_monotonicity(submission2, qs=['lower_95','lower_90','lower_80','lower_50','pred','upper_50','upper_80','upper_90','upper_95']))\n",
    "print(apply_check_monotonicity(submission3, qs=['lower_95','lower_90','lower_80','lower_50','pred','upper_50','upper_80','upper_90','upper_95']))\n",
    "\n",
    "\n",
    "print(apply_check_nonnegative(submission1, qs=['lower_95','lower_90','lower_80','lower_50','pred','upper_50','upper_80','upper_90','upper_95']))\n",
    "print(apply_check_nonnegative(submission2, qs=['lower_95','lower_90','lower_80','lower_50','pred','upper_50','upper_80','upper_90','upper_95']))\n",
    "print(apply_check_nonnegative(submission3, qs=['lower_95','lower_90','lower_80','lower_50','pred','upper_50','upper_80','upper_90','upper_95']))"
   ]
  },
  {
   "cell_type": "code",
   "execution_count": 47,
   "id": "e6d2b543",
   "metadata": {},
   "outputs": [
    {
     "data": {
      "text/html": [
       "<div><style>\n",
       ".dataframe > thead > tr,\n",
       ".dataframe > tbody > tr {\n",
       "  text-align: right;\n",
       "  white-space: pre-wrap;\n",
       "}\n",
       "</style>\n",
       "<small>shape: (1_352, 10)</small><table border=\"1\" class=\"dataframe\"><thead><tr><th>lower_95</th><th>lower_90</th><th>lower_80</th><th>lower_50</th><th>pred</th><th>upper_50</th><th>upper_80</th><th>upper_90</th><th>upper_95</th><th>date</th></tr><tr><td>f64</td><td>f64</td><td>f64</td><td>f64</td><td>f64</td><td>f64</td><td>f64</td><td>f64</td><td>f64</td><td>date</td></tr></thead><tbody><tr><td>0.0</td><td>0.0</td><td>0.0</td><td>300.25824</td><td>883.681641</td><td>1847.712769</td><td>3097.541016</td><td>3583.358276</td><td>3826.266907</td><td>2024-10-06</td></tr><tr><td>0.0</td><td>0.0</td><td>0.0</td><td>293.295593</td><td>1026.213379</td><td>2081.055725</td><td>3481.633301</td><td>4034.914307</td><td>4311.55481</td><td>2024-10-13</td></tr><tr><td>0.0</td><td>0.0</td><td>0.0</td><td>472.960297</td><td>1309.833984</td><td>2525.849731</td><td>4088.55957</td><td>4709.576538</td><td>5020.085022</td><td>2024-10-20</td></tr><tr><td>0.0</td><td>0.0</td><td>0.0</td><td>290.646362</td><td>1246.572144</td><td>2585.34668</td><td>4241.1875</td><td>4891.609375</td><td>5216.820312</td><td>2024-10-27</td></tr><tr><td>0.0</td><td>0.0</td><td>0.0</td><td>74.274414</td><td>991.160645</td><td>2346.397522</td><td>4127.862793</td><td>4828.927124</td><td>5179.45929</td><td>2024-11-03</td></tr><tr><td>&hellip;</td><td>&hellip;</td><td>&hellip;</td><td>&hellip;</td><td>&hellip;</td><td>&hellip;</td><td>&hellip;</td><td>&hellip;</td><td>&hellip;</td><td>&hellip;</td></tr><tr><td>0.112679</td><td>0.93573</td><td>2.581833</td><td>7.250656</td><td>15.457012</td><td>37.237107</td><td>78.097763</td><td>94.71961</td><td>103.030534</td><td>2025-08-31</td></tr><tr><td>0.0</td><td>0.314257</td><td>1.928154</td><td>6.517065</td><td>14.538601</td><td>35.776753</td><td>75.965096</td><td>92.429935</td><td>100.662355</td><td>2025-09-07</td></tr><tr><td>2.078912</td><td>2.644964</td><td>3.777069</td><td>7.562883</td><td>16.886108</td><td>34.062336</td><td>71.381462</td><td>87.126106</td><td>94.998428</td><td>2025-09-14</td></tr><tr><td>1.408588</td><td>2.153217</td><td>3.642475</td><td>7.5611</td><td>16.205784</td><td>33.513674</td><td>69.961571</td><td>84.907341</td><td>92.380226</td><td>2025-09-21</td></tr><tr><td>1.930403</td><td>2.583504</td><td>3.889706</td><td>8.168243</td><td>17.225212</td><td>33.957072</td><td>67.806389</td><td>81.780064</td><td>88.766901</td><td>2025-09-28</td></tr></tbody></table></div>"
      ],
      "text/plain": [
       "shape: (1_352, 10)\n",
       "┌──────────┬──────────┬──────────┬────────────┬───┬────────────┬───────────┬───────────┬───────────┐\n",
       "│ lower_95 ┆ lower_90 ┆ lower_80 ┆ lower_50   ┆ … ┆ upper_80   ┆ upper_90  ┆ upper_95  ┆ date      │\n",
       "│ ---      ┆ ---      ┆ ---      ┆ ---        ┆   ┆ ---        ┆ ---       ┆ ---       ┆ ---       │\n",
       "│ f64      ┆ f64      ┆ f64      ┆ f64        ┆   ┆ f64        ┆ f64       ┆ f64       ┆ date      │\n",
       "╞══════════╪══════════╪══════════╪════════════╪═══╪════════════╪═══════════╪═══════════╪═══════════╡\n",
       "│ 0.0      ┆ 0.0      ┆ 0.0      ┆ 300.25824  ┆ … ┆ 3097.54101 ┆ 3583.3582 ┆ 3826.2669 ┆ 2024-10-0 │\n",
       "│          ┆          ┆          ┆            ┆   ┆ 6          ┆ 76        ┆ 07        ┆ 6         │\n",
       "│ 0.0      ┆ 0.0      ┆ 0.0      ┆ 293.295593 ┆ … ┆ 3481.63330 ┆ 4034.9143 ┆ 4311.5548 ┆ 2024-10-1 │\n",
       "│          ┆          ┆          ┆            ┆   ┆ 1          ┆ 07        ┆ 1         ┆ 3         │\n",
       "│ 0.0      ┆ 0.0      ┆ 0.0      ┆ 472.960297 ┆ … ┆ 4088.55957 ┆ 4709.5765 ┆ 5020.0850 ┆ 2024-10-2 │\n",
       "│          ┆          ┆          ┆            ┆   ┆            ┆ 38        ┆ 22        ┆ 0         │\n",
       "│ 0.0      ┆ 0.0      ┆ 0.0      ┆ 290.646362 ┆ … ┆ 4241.1875  ┆ 4891.6093 ┆ 5216.8203 ┆ 2024-10-2 │\n",
       "│          ┆          ┆          ┆            ┆   ┆            ┆ 75        ┆ 12        ┆ 7         │\n",
       "│ 0.0      ┆ 0.0      ┆ 0.0      ┆ 74.274414  ┆ … ┆ 4127.86279 ┆ 4828.9271 ┆ 5179.4592 ┆ 2024-11-0 │\n",
       "│          ┆          ┆          ┆            ┆   ┆ 3          ┆ 24        ┆ 9         ┆ 3         │\n",
       "│ …        ┆ …        ┆ …        ┆ …          ┆ … ┆ …          ┆ …         ┆ …         ┆ …         │\n",
       "│ 0.112679 ┆ 0.93573  ┆ 2.581833 ┆ 7.250656   ┆ … ┆ 78.097763  ┆ 94.71961  ┆ 103.03053 ┆ 2025-08-3 │\n",
       "│          ┆          ┆          ┆            ┆   ┆            ┆           ┆ 4         ┆ 1         │\n",
       "│ 0.0      ┆ 0.314257 ┆ 1.928154 ┆ 6.517065   ┆ … ┆ 75.965096  ┆ 92.429935 ┆ 100.66235 ┆ 2025-09-0 │\n",
       "│          ┆          ┆          ┆            ┆   ┆            ┆           ┆ 5         ┆ 7         │\n",
       "│ 2.078912 ┆ 2.644964 ┆ 3.777069 ┆ 7.562883   ┆ … ┆ 71.381462  ┆ 87.126106 ┆ 94.998428 ┆ 2025-09-1 │\n",
       "│          ┆          ┆          ┆            ┆   ┆            ┆           ┆           ┆ 4         │\n",
       "│ 1.408588 ┆ 2.153217 ┆ 3.642475 ┆ 7.5611     ┆ … ┆ 69.961571  ┆ 84.907341 ┆ 92.380226 ┆ 2025-09-2 │\n",
       "│          ┆          ┆          ┆            ┆   ┆            ┆           ┆           ┆ 1         │\n",
       "│ 1.930403 ┆ 2.583504 ┆ 3.889706 ┆ 8.168243   ┆ … ┆ 67.806389  ┆ 81.780064 ┆ 88.766901 ┆ 2025-09-2 │\n",
       "│          ┆          ┆          ┆            ┆   ┆            ┆           ┆           ┆ 8         │\n",
       "└──────────┴──────────┴──────────┴────────────┴───┴────────────┴───────────┴───────────┴───────────┘"
      ]
     },
     "execution_count": 47,
     "metadata": {},
     "output_type": "execute_result"
    }
   ],
   "source": [
    "submission3"
   ]
  },
  {
   "cell_type": "code",
   "execution_count": null,
   "id": "3dc14517",
   "metadata": {},
   "outputs": [],
   "source": []
  }
 ],
 "metadata": {
  "kernelspec": {
   "display_name": "sprint2025",
   "language": "python",
   "name": "sprint2025"
  },
  "language_info": {
   "codemirror_mode": {
    "name": "ipython",
    "version": 3
   },
   "file_extension": ".py",
   "mimetype": "text/x-python",
   "name": "python",
   "nbconvert_exporter": "python",
   "pygments_lexer": "ipython3",
   "version": "3.11.11"
  }
 },
 "nbformat": 4,
 "nbformat_minor": 5
}
