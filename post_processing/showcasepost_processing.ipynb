{
 "cells": [
  {
   "cell_type": "markdown",
   "id": "8971f979-8b92-401c-bd90-224d97fc668b",
   "metadata": {},
   "source": [
    "## Post-Processing\n",
    "\n",
    "After training and forecasting, we need to do a post-processing in order to guarantee that our output forecast makes sense.\n",
    "For example, our forecast must never go below zero, as our target is number of dengue cases, which is either zero or larger.\n",
    "Another point is that our quantiles must be monotonic, i.e. if qunatile `0.5` forecasts a value of `20`, then quantile `0.6` must forecast\n",
    "a value larger than `20`."
   ]
  },
  {
   "cell_type": "code",
   "execution_count": 1,
   "id": "ae0f5514-285d-460b-8c49-3dc1e600ba35",
   "metadata": {},
   "outputs": [],
   "source": [
    "import polars as pl\n",
    "import numpy as np"
   ]
  },
  {
   "cell_type": "markdown",
   "id": "7170560a-a66b-49e4-9fbf-f12d7a3b90dd",
   "metadata": {},
   "source": [
    "### Getting the intervals required by the sprint"
   ]
  },
  {
   "cell_type": "code",
   "execution_count": 36,
   "id": "e7484e87-2a6c-4ea1-b084-76879dca6df4",
   "metadata": {},
   "outputs": [],
   "source": [
    "intervals = [0.5,0.8,0.9,0.95]\n",
    "\n",
    "quantiles = [[np.round(0.5 - i/2,decimals=3), np.round(0.5 + i/2,decimals=3)]for i in intervals]\n",
    "qs = [str(i) for i in [0.1,0.2,0.3,0.4,0.5,0.6,0.7,0.8,0.9]]\n",
    "\n",
    "def estimate_quantile(predictions,target_quantile):\n",
    "    \"\"\"\n",
    "    Estimate the value of a given quantile based on the predictions.\n",
    "\n",
    "    Parameters:\n",
    "    predictions (DataFrame): A DataFrame containing quantile predictions.\n",
    "                                     Columns should represent quantile levels (e.g., '0.1', '0.2', ..., '0.9').\n",
    "    target_quantile (float): The quantile level to estimate (e.g., 0.25, 0.75).\n",
    "\n",
    "    Returns:\n",
    "    float: The estimated value for the target quantile, interpolated if necessary.\n",
    "\n",
    "    \"\"\"\n",
    "    quantile_values = np.arange(0.1,1.0, 0.1)\n",
    "    if target_quantile in quantile_values:\n",
    "        return predictions[str(target_quantile)]\n",
    "    if target_quantile < 0.1:\n",
    "        return predictions['0.1'] - (0.1 - target_quantile)*(predictions['0.2'] - predictions['0.1'])/0.1\n",
    "    if target_quantile > 0.9:\n",
    "        return predictions['0.9'] + (target_quantile - 0.9)*(predictions['0.9'] - predictions['0.8'])/0.1\n",
    "\n",
    "    lower_bound = np.round(max(q for q in quantile_values if q < target_quantile),decimals=2)\n",
    "    upper_bound = np.round(min(q for q in quantile_values if q > target_quantile),decimals=2)\n",
    "    lower_values = predictions[str(lower_bound)]\n",
    "    upper_values = predictions[str(upper_bound)]\n",
    "    slope = (upper_values - lower_values) / (upper_bound - lower_bound)\n",
    "    return lower_values + slope * (target_quantile - lower_bound)\n",
    "\n"
   ]
  },
  {
   "cell_type": "markdown",
   "id": "3d4db745-e433-4d90-8cd4-fdda46dc18d3",
   "metadata": {},
   "source": [
    "Importing our predictions. "
   ]
  },
  {
   "cell_type": "code",
   "execution_count": 48,
   "id": "3a33b4a8-c3fd-4df9-98c1-c926213106f2",
   "metadata": {},
   "outputs": [],
   "source": [
    "# import predictions\n",
    "validation1 = pl.read_parquet('../data/4_model_output/validation_sprint_1.parquet').with_columns(\n",
    "    pl.col(\"date\").cast(pl.Date)\n",
    ")\n",
    "validation2 = pl.read_parquet('../data/4_model_output/validation_sprint_2.parquet').with_columns(\n",
    "    pl.col(\"date\").cast(pl.Date)\n",
    ")\n",
    "validation3 = pl.read_parquet('../data/4_model_output/validation_sprint_3.parquet').with_columns(\n",
    "    pl.col(\"date\").cast(pl.Date)\n",
    ")"
   ]
  },
  {
   "cell_type": "markdown",
   "id": "9040b139-f63c-4641-a31e-d4778d2ef9f0",
   "metadata": {},
   "source": [
    "## Checking Monotone Condition\n",
    "\n",
    "Note that the quantile values must be monotone, i.e. if quantile `0.5` forecasts a value of `20`, then quantile `0.6` must forecast\n",
    "a value larger.  Depending on how the quantiles are estimated, a forecasting model might give\n",
    "inconsistent predictions. The following function checks for monotonicity."
   ]
  },
  {
   "cell_type": "code",
   "execution_count": 49,
   "id": "d4f58faa-811d-495a-925e-906a8d33f117",
   "metadata": {},
   "outputs": [],
   "source": [
    "def check_monotonicity(row, qs):\n",
    "    vals = [row[q] for q in qs]\n",
    "    return np.all(np.diff(vals) >= 0)\n",
    "\n",
    "def apply_check_monotonicity(predictions, qs=['0.1','0.2','0.3','0.4','0.5','0.6','0.7','0.8','0.9']):\n",
    "    predictions = predictions.with_columns(\n",
    "        pl.struct(predictions.columns)\n",
    "            .map_elements(lambda row: check_monotonicity(row,qs),return_dtype=bool).alias('mono')\n",
    "    )\n",
    "    return predictions"
   ]
  },
  {
   "cell_type": "markdown",
   "id": "6e0e79db-c29c-4e57-aa69-1286da06439a",
   "metadata": {},
   "source": [
    "Let us check if there are non monotonic cases. "
   ]
  },
  {
   "cell_type": "code",
   "execution_count": 50,
   "id": "a38702cc-81d5-47a1-8ed4-20284636d2c0",
   "metadata": {},
   "outputs": [
    {
     "data": {
      "text/html": [
       "<div><style>\n",
       ".dataframe > thead > tr,\n",
       ".dataframe > tbody > tr {\n",
       "  text-align: right;\n",
       "  white-space: pre-wrap;\n",
       "}\n",
       "</style>\n",
       "<small>shape: (4, 15)</small><table border=\"1\" class=\"dataframe\"><thead><tr><th>uf</th><th>date</th><th>mean</th><th>0.1</th><th>0.2</th><th>0.3</th><th>0.4</th><th>0.5</th><th>0.6</th><th>0.7</th><th>0.8</th><th>0.9</th><th>epiweek</th><th>target_1</th><th>mono</th></tr><tr><td>str</td><td>date</td><td>f32</td><td>f32</td><td>f32</td><td>f32</td><td>f32</td><td>f32</td><td>f32</td><td>f32</td><td>f32</td><td>f32</td><td>i64</td><td>bool</td><td>bool</td></tr></thead><tbody><tr><td>&quot;RS&quot;</td><td>2022-11-27</td><td>-81.416016</td><td>-212.614136</td><td>-131.288422</td><td>-99.96698</td><td>-81.089691</td><td>-81.416016</td><td>-52.639679</td><td>28.986839</td><td>253.777161</td><td>1052.812622</td><td>202248</td><td>true</td><td>false</td></tr><tr><td>&quot;SP&quot;</td><td>2022-11-06</td><td>613.699463</td><td>-138.401367</td><td>251.768066</td><td>444.932129</td><td>571.827881</td><td>613.699463</td><td>611.859375</td><td>688.529785</td><td>933.813965</td><td>2247.476807</td><td>202245</td><td>true</td><td>false</td></tr><tr><td>&quot;PI&quot;</td><td>2023-09-03</td><td>60.015114</td><td>31.10347</td><td>30.667221</td><td>29.79837</td><td>37.710167</td><td>60.015114</td><td>105.979538</td><td>182.353897</td><td>321.660278</td><td>616.369019</td><td>202336</td><td>true</td><td>false</td></tr><tr><td>&quot;PI&quot;</td><td>2023-09-10</td><td>46.822922</td><td>17.735245</td><td>14.239532</td><td>14.124344</td><td>22.992615</td><td>46.822922</td><td>95.299263</td><td>177.751862</td><td>316.703461</td><td>609.36084</td><td>202337</td><td>true</td><td>false</td></tr></tbody></table></div>"
      ],
      "text/plain": [
       "shape: (4, 15)\n",
       "┌─────┬────────────┬────────────┬─────────────┬───┬─────────────┬─────────┬──────────┬───────┐\n",
       "│ uf  ┆ date       ┆ mean       ┆ 0.1         ┆ … ┆ 0.9         ┆ epiweek ┆ target_1 ┆ mono  │\n",
       "│ --- ┆ ---        ┆ ---        ┆ ---         ┆   ┆ ---         ┆ ---     ┆ ---      ┆ ---   │\n",
       "│ str ┆ date       ┆ f32        ┆ f32         ┆   ┆ f32         ┆ i64     ┆ bool     ┆ bool  │\n",
       "╞═════╪════════════╪════════════╪═════════════╪═══╪═════════════╪═════════╪══════════╪═══════╡\n",
       "│ RS  ┆ 2022-11-27 ┆ -81.416016 ┆ -212.614136 ┆ … ┆ 1052.812622 ┆ 202248  ┆ true     ┆ false │\n",
       "│ SP  ┆ 2022-11-06 ┆ 613.699463 ┆ -138.401367 ┆ … ┆ 2247.476807 ┆ 202245  ┆ true     ┆ false │\n",
       "│ PI  ┆ 2023-09-03 ┆ 60.015114  ┆ 31.10347    ┆ … ┆ 616.369019  ┆ 202336  ┆ true     ┆ false │\n",
       "│ PI  ┆ 2023-09-10 ┆ 46.822922  ┆ 17.735245   ┆ … ┆ 609.36084   ┆ 202337  ┆ true     ┆ false │\n",
       "└─────┴────────────┴────────────┴─────────────┴───┴─────────────┴─────────┴──────────┴───────┘"
      ]
     },
     "execution_count": 50,
     "metadata": {},
     "output_type": "execute_result"
    }
   ],
   "source": [
    "validation1 = apply_check_monotonicity(validation1)\n",
    "validation1.filter(~pl.col('mono'))"
   ]
  },
  {
   "cell_type": "markdown",
   "id": "f9b4cbed-780b-44d2-ba07-278a0965bd86",
   "metadata": {},
   "source": [
    "In this case, we do. Therefore, we must adjust our predictions.\n",
    "\n",
    "### Method 1: Sorting\n",
    "In this method, we sort the values, and re-attribute the quantiles based on this sorting.\n",
    "For the already monotonic cases, nothing will change. For non-monotonic, we will get a proper quantile collection."
   ]
  },
  {
   "cell_type": "code",
   "execution_count": 51,
   "id": "9e175edf-5c18-4c95-8145-00c7e7ce70e0",
   "metadata": {},
   "outputs": [],
   "source": [
    "def sort_quantiles(row: dict, prepend='s') -> dict:\n",
    "    quantile_cols =  [\"0.1\",\"0.2\",\"0.3\",\"0.4\",\"0.5\",\"0.6\",\"0.7\",\"0.8\",\"0.9\"]\n",
    "    # extract quantile values\n",
    "    sorted_vals = sorted(row[q] for q in quantile_cols)\n",
    "    # return a dict mapping back to the same columns\n",
    "    return {prepend+col: val for col, val in zip(quantile_cols, sorted_vals)}\n",
    "\n",
    "\n",
    "def apply_sort_quantiles(predictions, qs=['0.1','0.2','0.3','0.4','0.5','0.6','0.7','0.8','0.9']):\n",
    "    pred = predictions.with_columns(\n",
    "        pl.struct(qs).map_elements(sort_quantiles).alias(\"sorted_struct\")\n",
    "    ).unnest(\"sorted_struct\")\n",
    "\n",
    "    sqs = ['s'+q for q in qs]\n",
    "    pred = pred.with_columns(\n",
    "        pl.struct(pred.columns)\n",
    "            .map_elements(lambda row: check_monotonicity(row,sqs),return_dtype=bool).alias('mono')\n",
    "    )\n",
    "    return pred"
   ]
  },
  {
   "cell_type": "code",
   "execution_count": 53,
   "id": "82d8bbaa",
   "metadata": {},
   "outputs": [
    {
     "name": "stderr",
     "output_type": "stream",
     "text": [
      "/var/folders/sz/kh2xcmy51n70hznv18vzsqxr0000gn/T/ipykernel_48155/2769004925.py:10: MapWithoutReturnDtypeWarning: Calling `map_elements` without specifying `return_dtype` can lead to unpredictable results. Specify `return_dtype` to silence this warning.\n",
      "  pred = predictions.with_columns(\n"
     ]
    }
   ],
   "source": [
    "validation1 = apply_sort_quantiles(validation1)"
   ]
  },
  {
   "cell_type": "markdown",
   "id": "8a83bf9f-f19a-4b85-a7d5-177db7b9205f",
   "metadata": {},
   "source": [
    "### Check if the sorting worked "
   ]
  },
  {
   "cell_type": "code",
   "execution_count": 58,
   "id": "ca3d2a7f-4e10-4bcf-96fa-e8a47208f27a",
   "metadata": {},
   "outputs": [
    {
     "name": "stdout",
     "output_type": "stream",
     "text": [
      "True\n"
     ]
    },
    {
     "data": {
      "text/html": [
       "<div><style>\n",
       ".dataframe > thead > tr,\n",
       ".dataframe > tbody > tr {\n",
       "  text-align: right;\n",
       "  white-space: pre-wrap;\n",
       "}\n",
       "</style>\n",
       "<small>shape: (0, 24)</small><table border=\"1\" class=\"dataframe\"><thead><tr><th>uf</th><th>date</th><th>mean</th><th>0.1</th><th>0.2</th><th>0.3</th><th>0.4</th><th>0.5</th><th>0.6</th><th>0.7</th><th>0.8</th><th>0.9</th><th>epiweek</th><th>target_1</th><th>mono</th><th>s0.1</th><th>s0.2</th><th>s0.3</th><th>s0.4</th><th>s0.5</th><th>s0.6</th><th>s0.7</th><th>s0.8</th><th>s0.9</th></tr><tr><td>str</td><td>date</td><td>f32</td><td>f32</td><td>f32</td><td>f32</td><td>f32</td><td>f32</td><td>f32</td><td>f32</td><td>f32</td><td>f32</td><td>i64</td><td>bool</td><td>bool</td><td>f64</td><td>f64</td><td>f64</td><td>f64</td><td>f64</td><td>f64</td><td>f64</td><td>f64</td><td>f64</td></tr></thead><tbody></tbody></table></div>"
      ],
      "text/plain": [
       "shape: (0, 24)\n",
       "┌─────┬──────┬──────┬─────┬───┬──────┬──────┬──────┬──────┐\n",
       "│ uf  ┆ date ┆ mean ┆ 0.1 ┆ … ┆ s0.6 ┆ s0.7 ┆ s0.8 ┆ s0.9 │\n",
       "│ --- ┆ ---  ┆ ---  ┆ --- ┆   ┆ ---  ┆ ---  ┆ ---  ┆ ---  │\n",
       "│ str ┆ date ┆ f32  ┆ f32 ┆   ┆ f64  ┆ f64  ┆ f64  ┆ f64  │\n",
       "╞═════╪══════╪══════╪═════╪═══╪══════╪══════╪══════╪══════╡\n",
       "└─────┴──────┴──────┴─────┴───┴──────┴──────┴──────┴──────┘"
      ]
     },
     "execution_count": 58,
     "metadata": {},
     "output_type": "execute_result"
    }
   ],
   "source": [
    "# Check if the sum of the orignal quantiles matches with the sorted\n",
    "def check_sum_quantiles(validation, qs=['0.1','0.2','0.3','0.4','0.5','0.6','0.7','0.8','0.9']):\n",
    "    print(len(validation1.with_columns(\n",
    "        pl.sum_horizontal([pl.col(q) for q in qs]).alias('row_sum'),\n",
    "        pl.sum_horizontal([pl.col('s'+q) for q in qs]).alias('row_sum2'),\n",
    "    ).filter(\n",
    "        np.abs(pl.col('row_sum') - pl.col('row_sum2')) > 0.1\n",
    "    )) == 0)\n",
    "\n",
    "\n",
    "    # Check if all are monotonic\n",
    "    return validation.filter(~pl.col('mono'))\n",
    "\n",
    "check_sum_quantiles(validation1)"
   ]
  },
  {
   "cell_type": "markdown",
   "id": "a6a95a14-5f7d-4cf1-9a2d-aae37423bc25",
   "metadata": {},
   "source": [
    "#### Renaming sorted quantiles to the original."
   ]
  },
  {
   "cell_type": "code",
   "execution_count": 59,
   "id": "fe5df5d2-fcbb-4c05-a6a6-7861cbc565c1",
   "metadata": {},
   "outputs": [],
   "source": [
    "validation1 = validation1.drop(qs).rename({f's{q}': q for q in qs})"
   ]
  },
  {
   "cell_type": "markdown",
   "id": "b4f437a0-d2a9-4867-8255-5baa11a4181c",
   "metadata": {},
   "source": [
    "Autogluon computes quantiles 0.1,0.2,...,0.9, so we need to convert them to the intervals required by the sprint.\n",
    "We use simple linear interpolation/extrapolation."
   ]
  },
  {
   "cell_type": "code",
   "execution_count": 60,
   "id": "18d0b9bc-7a63-4280-8d11-fff2b62ab088",
   "metadata": {},
   "outputs": [],
   "source": [
    "for q in np.hstack(quantiles):\n",
    "    validation1 = validation1.with_columns(\n",
    "        pl.struct(validation1.columns).map_elements(lambda row: estimate_quantile(row, target_quantile=q),return_dtype=float).alias(str(q))\n",
    "    )"
   ]
  },
  {
   "cell_type": "code",
   "execution_count": 62,
   "id": "016c6fd7-c1ec-476f-82a7-edbf399057d2",
   "metadata": {},
   "outputs": [
    {
     "data": {
      "text/html": [
       "<div><style>\n",
       ".dataframe > thead > tr,\n",
       ".dataframe > tbody > tr {\n",
       "  text-align: right;\n",
       "  white-space: pre-wrap;\n",
       "}\n",
       "</style>\n",
       "<small>shape: (1_352, 21)</small><table border=\"1\" class=\"dataframe\"><thead><tr><th>uf</th><th>date</th><th>mean</th><th>epiweek</th><th>target_1</th><th>mono</th><th>0.1</th><th>0.2</th><th>0.3</th><th>0.4</th><th>0.5</th><th>0.6</th><th>0.7</th><th>0.8</th><th>0.9</th><th>0.25</th><th>0.75</th><th>0.05</th><th>0.95</th><th>0.025</th><th>0.975</th></tr><tr><td>str</td><td>date</td><td>f32</td><td>i64</td><td>bool</td><td>bool</td><td>f64</td><td>f64</td><td>f64</td><td>f64</td><td>f64</td><td>f64</td><td>f64</td><td>f64</td><td>f64</td><td>f64</td><td>f64</td><td>f64</td><td>f64</td><td>f64</td><td>f64</td></tr></thead><tbody><tr><td>&quot;RJ&quot;</td><td>2022-10-09</td><td>20.754639</td><td>202241</td><td>true</td><td>true</td><td>-44.537598</td><td>-19.891479</td><td>-3.844604</td><td>8.201904</td><td>20.754639</td><td>39.189087</td><td>61.92627</td><td>88.855957</td><td>151.351807</td><td>-11.868042</td><td>75.391113</td><td>-56.860657</td><td>182.599731</td><td>-63.022186</td><td>198.223694</td></tr><tr><td>&quot;RJ&quot;</td><td>2022-10-16</td><td>45.361938</td><td>202242</td><td>true</td><td>true</td><td>-40.073486</td><td>-12.325562</td><td>8.807251</td><td>27.176025</td><td>45.361938</td><td>64.186646</td><td>86.517944</td><td>114.416382</td><td>184.415283</td><td>-1.759155</td><td>100.467163</td><td>-53.947449</td><td>219.414734</td><td>-60.88443</td><td>236.914459</td></tr><tr><td>&quot;RJ&quot;</td><td>2022-10-23</td><td>42.41626</td><td>202243</td><td>true</td><td>true</td><td>-43.28186</td><td>-15.07373</td><td>8.538452</td><td>26.965576</td><td>42.41626</td><td>64.560181</td><td>91.47937</td><td>124.641479</td><td>205.903564</td><td>-3.267639</td><td>108.060425</td><td>-57.385925</td><td>246.534607</td><td>-64.437958</td><td>266.850128</td></tr><tr><td>&quot;RJ&quot;</td><td>2022-10-30</td><td>43.486084</td><td>202244</td><td>true</td><td>true</td><td>-45.106689</td><td>-18.593384</td><td>5.735229</td><td>25.024414</td><td>43.486084</td><td>67.587402</td><td>96.228638</td><td>135.265747</td><td>220.12915</td><td>-6.429077</td><td>115.747192</td><td>-58.363342</td><td>262.560852</td><td>-64.991669</td><td>283.776703</td></tr><tr><td>&quot;RJ&quot;</td><td>2022-11-06</td><td>52.406006</td><td>202245</td><td>true</td><td>true</td><td>-43.868286</td><td>-13.547241</td><td>8.329102</td><td>31.474609</td><td>52.406006</td><td>74.221436</td><td>107.44519</td><td>149.462402</td><td>257.632568</td><td>-2.60907</td><td>128.453796</td><td>-59.028809</td><td>311.717651</td><td>-66.60907</td><td>338.760193</td></tr><tr><td>&hellip;</td><td>&hellip;</td><td>&hellip;</td><td>&hellip;</td><td>&hellip;</td><td>&hellip;</td><td>&hellip;</td><td>&hellip;</td><td>&hellip;</td><td>&hellip;</td><td>&hellip;</td><td>&hellip;</td><td>&hellip;</td><td>&hellip;</td><td>&hellip;</td><td>&hellip;</td><td>&hellip;</td><td>&hellip;</td><td>&hellip;</td><td>&hellip;</td><td>&hellip;</td></tr><tr><td>&quot;SE&quot;</td><td>2023-09-03</td><td>45.724743</td><td>202336</td><td>true</td><td>true</td><td>5.682419</td><td>15.928577</td><td>22.071175</td><td>30.505674</td><td>45.724743</td><td>70.900909</td><td>107.585052</td><td>166.706589</td><td>270.222809</td><td>18.999876</td><td>137.145821</td><td>0.55934</td><td>321.980919</td><td>-2.0022</td><td>347.859974</td></tr><tr><td>&quot;SE&quot;</td><td>2023-09-10</td><td>42.899181</td><td>202337</td><td>true</td><td>true</td><td>4.129044</td><td>12.537964</td><td>18.511459</td><td>26.938179</td><td>42.899181</td><td>69.379967</td><td>108.192032</td><td>167.329208</td><td>273.653961</td><td>15.524712</td><td>137.76062</td><td>-0.075417</td><td>326.816338</td><td>-2.177647</td><td>353.397526</td></tr><tr><td>&quot;SE&quot;</td><td>2023-09-17</td><td>37.646095</td><td>202338</td><td>true</td><td>true</td><td>5.043617</td><td>10.878052</td><td>16.421257</td><td>22.115238</td><td>37.646095</td><td>64.161903</td><td>102.333832</td><td>160.041809</td><td>250.794937</td><td>13.649654</td><td>131.18782</td><td>2.1264</td><td>296.171501</td><td>0.667791</td><td>318.859783</td></tr><tr><td>&quot;SE&quot;</td><td>2023-09-24</td><td>35.854889</td><td>202339</td><td>true</td><td>true</td><td>4.977779</td><td>9.557594</td><td>15.631424</td><td>22.161182</td><td>35.854889</td><td>62.490421</td><td>100.214928</td><td>155.457962</td><td>232.420456</td><td>12.594509</td><td>127.836445</td><td>2.687872</td><td>270.901703</td><td>1.542918</td><td>290.142326</td></tr><tr><td>&quot;SE&quot;</td><td>2023-10-01</td><td>34.469284</td><td>202340</td><td>true</td><td>true</td><td>5.087673</td><td>10.230927</td><td>15.246246</td><td>21.535683</td><td>34.469284</td><td>60.299477</td><td>97.080124</td><td>149.321136</td><td>215.074982</td><td>12.738586</td><td>123.20063</td><td>2.516047</td><td>247.951904</td><td>1.230233</td><td>264.390366</td></tr></tbody></table></div>"
      ],
      "text/plain": [
       "shape: (1_352, 21)\n",
       "┌─────┬────────────┬───────────┬─────────┬───┬────────────┬────────────┬────────────┬────────────┐\n",
       "│ uf  ┆ date       ┆ mean      ┆ epiweek ┆ … ┆ 0.05       ┆ 0.95       ┆ 0.025      ┆ 0.975      │\n",
       "│ --- ┆ ---        ┆ ---       ┆ ---     ┆   ┆ ---        ┆ ---        ┆ ---        ┆ ---        │\n",
       "│ str ┆ date       ┆ f32       ┆ i64     ┆   ┆ f64        ┆ f64        ┆ f64        ┆ f64        │\n",
       "╞═════╪════════════╪═══════════╪═════════╪═══╪════════════╪════════════╪════════════╪════════════╡\n",
       "│ RJ  ┆ 2022-10-09 ┆ 20.754639 ┆ 202241  ┆ … ┆ -56.860657 ┆ 182.599731 ┆ -63.022186 ┆ 198.223694 │\n",
       "│ RJ  ┆ 2022-10-16 ┆ 45.361938 ┆ 202242  ┆ … ┆ -53.947449 ┆ 219.414734 ┆ -60.88443  ┆ 236.914459 │\n",
       "│ RJ  ┆ 2022-10-23 ┆ 42.41626  ┆ 202243  ┆ … ┆ -57.385925 ┆ 246.534607 ┆ -64.437958 ┆ 266.850128 │\n",
       "│ RJ  ┆ 2022-10-30 ┆ 43.486084 ┆ 202244  ┆ … ┆ -58.363342 ┆ 262.560852 ┆ -64.991669 ┆ 283.776703 │\n",
       "│ RJ  ┆ 2022-11-06 ┆ 52.406006 ┆ 202245  ┆ … ┆ -59.028809 ┆ 311.717651 ┆ -66.60907  ┆ 338.760193 │\n",
       "│ …   ┆ …          ┆ …         ┆ …       ┆ … ┆ …          ┆ …          ┆ …          ┆ …          │\n",
       "│ SE  ┆ 2023-09-03 ┆ 45.724743 ┆ 202336  ┆ … ┆ 0.55934    ┆ 321.980919 ┆ -2.0022    ┆ 347.859974 │\n",
       "│ SE  ┆ 2023-09-10 ┆ 42.899181 ┆ 202337  ┆ … ┆ -0.075417  ┆ 326.816338 ┆ -2.177647  ┆ 353.397526 │\n",
       "│ SE  ┆ 2023-09-17 ┆ 37.646095 ┆ 202338  ┆ … ┆ 2.1264     ┆ 296.171501 ┆ 0.667791   ┆ 318.859783 │\n",
       "│ SE  ┆ 2023-09-24 ┆ 35.854889 ┆ 202339  ┆ … ┆ 2.687872   ┆ 270.901703 ┆ 1.542918   ┆ 290.142326 │\n",
       "│ SE  ┆ 2023-10-01 ┆ 34.469284 ┆ 202340  ┆ … ┆ 2.516047   ┆ 247.951904 ┆ 1.230233   ┆ 264.390366 │\n",
       "└─────┴────────────┴───────────┴─────────┴───┴────────────┴────────────┴────────────┴────────────┘"
      ]
     },
     "execution_count": 62,
     "metadata": {},
     "output_type": "execute_result"
    }
   ],
   "source": [
    "validation1"
   ]
  },
  {
   "cell_type": "code",
   "execution_count": 71,
   "id": "4f6a0bbb-dc88-4a05-a7a8-2c03427e7d4d",
   "metadata": {},
   "outputs": [
    {
     "data": {
      "text/html": [
       "\n",
       "            <div id=\"4UrOUD\"></div>\n",
       "            <script type=\"text/javascript\" data-lets-plot-script=\"library\">\n",
       "                if(!window.letsPlotCallQueue) {\n",
       "                    window.letsPlotCallQueue = [];\n",
       "                }; \n",
       "                window.letsPlotCall = function(f) {\n",
       "                    window.letsPlotCallQueue.push(f);\n",
       "                };\n",
       "                (function() {\n",
       "                    var script = document.createElement(\"script\");\n",
       "                    script.type = \"text/javascript\";\n",
       "                    script.src = \"https://cdn.jsdelivr.net/gh/JetBrains/lets-plot@v4.7.0/js-package/distr/lets-plot.min.js\";\n",
       "                    script.onload = function() {\n",
       "                        window.letsPlotCall = function(f) {f();};\n",
       "                        window.letsPlotCallQueue.forEach(function(f) {f();});\n",
       "                        window.letsPlotCallQueue = [];\n",
       "                        \n",
       "                    };\n",
       "                    script.onerror = function(event) {\n",
       "                        window.letsPlotCall = function(f) {};    // noop\n",
       "                        window.letsPlotCallQueue = [];\n",
       "                        var div = document.createElement(\"div\");\n",
       "                        div.style.color = 'darkred';\n",
       "                        div.textContent = 'Error loading Lets-Plot JS';\n",
       "                        document.getElementById(\"4UrOUD\").appendChild(div);\n",
       "                    };\n",
       "                    var e = document.getElementById(\"4UrOUD\");\n",
       "                    e.appendChild(script);\n",
       "                })()\n",
       "            </script>\n",
       "            "
      ]
     },
     "metadata": {},
     "output_type": "display_data"
    },
    {
     "data": {
      "text/html": [
       "   <div id=\"DxGZdj\"></div>\n",
       "   <script type=\"text/javascript\" data-lets-plot-script=\"plot\">\n",
       "   \n",
       "   (function() {\n",
       "   // ----------\n",
       "   \n",
       "   const forceImmediateRender = false;\n",
       "   const responsive = false;\n",
       "   \n",
       "   let sizing = {\n",
       "       width_mode: \"MIN\",\n",
       "       height_mode: \"SCALED\",\n",
       "       width: null, \n",
       "       height: null \n",
       "   };\n",
       "   \n",
       "   const preferredWidth = document.body.dataset.letsPlotPreferredWidth;\n",
       "   if (preferredWidth !== undefined) {\n",
       "       sizing = {\n",
       "           width_mode: 'FIXED',\n",
       "           height_mode: 'SCALED',\n",
       "           width: parseFloat(preferredWidth)\n",
       "       };\n",
       "   }\n",
       "   \n",
       "   const containerDiv = document.getElementById(\"DxGZdj\");\n",
       "   let fig = null;\n",
       "   \n",
       "   function renderPlot() {\n",
       "       if (fig === null) {\n",
       "           const plotSpec = {\n",
       "\"data\":{\n",
       "\"q\":[0.1,0.2,0.3,0.4,0.5,0.6,0.7,0.8,0.9,0.25,0.75,0.05,0.95,0.025,0.975],\n",
       "\"y\":[-40.073486328125,-12.3255615234375,8.8072509765625,27.176025390625,45.3619384765625,64.1866455078125,86.5179443359375,114.4163818359375,184.415283203125,-1.7591552734375,100.4671630859375,-53.94744873046875,219.4147338867187,-60.884429931640625,236.9144592285156],\n",
       "\"new_q\":[false,false,false,false,false,false,false,false,false,true,true,true,true,true,true]\n",
       "},\n",
       "\"mapping\":{\n",
       "},\n",
       "\"data_meta\":{\n",
       "\"series_annotations\":[{\n",
       "\"type\":\"float\",\n",
       "\"column\":\"q\"\n",
       "},{\n",
       "\"type\":\"float\",\n",
       "\"column\":\"y\"\n",
       "},{\n",
       "\"type\":\"bool\",\n",
       "\"column\":\"new_q\"\n",
       "}]\n",
       "},\n",
       "\"kind\":\"plot\",\n",
       "\"scales\":[],\n",
       "\"layers\":[{\n",
       "\"geom\":\"line\",\n",
       "\"mapping\":{\n",
       "\"x\":\"q\",\n",
       "\"y\":\"y\"\n",
       "},\n",
       "\"data_meta\":{\n",
       "},\n",
       "\"color\":\"blue\",\n",
       "\"data\":{\n",
       "}\n",
       "},{\n",
       "\"geom\":\"point\",\n",
       "\"mapping\":{\n",
       "\"x\":\"q\",\n",
       "\"y\":\"y\",\n",
       "\"color\":\"new_q\"\n",
       "},\n",
       "\"data_meta\":{\n",
       "},\n",
       "\"data\":{\n",
       "}\n",
       "}],\n",
       "\"metainfo_list\":[],\n",
       "\"spec_id\":\"5\"\n",
       "};\n",
       "           window.letsPlotCall(function() { fig = LetsPlot.buildPlotFromProcessedSpecs(plotSpec, containerDiv, sizing); });\n",
       "       } else {\n",
       "           fig.updateView({});\n",
       "       }\n",
       "   }\n",
       "   \n",
       "   const renderImmediately = \n",
       "       forceImmediateRender || (\n",
       "           sizing.width_mode === 'FIXED' && \n",
       "           (sizing.height_mode === 'FIXED' || sizing.height_mode === 'SCALED')\n",
       "       );\n",
       "   \n",
       "   if (renderImmediately) {\n",
       "       renderPlot();\n",
       "   }\n",
       "   \n",
       "   if (!renderImmediately || responsive) {\n",
       "       // Set up observer for initial sizing or continuous monitoring\n",
       "       var observer = new ResizeObserver(function(entries) {\n",
       "           for (let entry of entries) {\n",
       "               if (entry.contentBoxSize && \n",
       "                   entry.contentBoxSize[0].inlineSize > 0) {\n",
       "                   if (!responsive && observer) {\n",
       "                       observer.disconnect();\n",
       "                       observer = null;\n",
       "                   }\n",
       "                   renderPlot();\n",
       "                   if (!responsive) {\n",
       "                       break;\n",
       "                   }\n",
       "               }\n",
       "           }\n",
       "       });\n",
       "       \n",
       "       observer.observe(containerDiv);\n",
       "   }\n",
       "   \n",
       "   // ----------\n",
       "   })();\n",
       "   \n",
       "   </script>"
      ],
      "text/plain": [
       "<lets_plot.plot.core.PlotSpec at 0x160d35b50>"
      ]
     },
     "execution_count": 71,
     "metadata": {},
     "output_type": "execute_result"
    }
   ],
   "source": [
    "from lets_plot import *\n",
    "LetsPlot.setup_html()\n",
    "\n",
    "i = 1\n",
    "pred = validation1.drop(['mono','mean','uf','date','epiweek','target_1'])[i]\n",
    "pred = pred.unpivot().rename({'variable':'q','value':'y'})\n",
    "pred = pred.with_columns(\n",
    "    (~pl.col('q').is_in(qs)).alias('new_q'),\n",
    "    pl.col('q').cast(pl.Float64)\n",
    ")\n",
    "\n",
    "(\n",
    "    ggplot(data=pred)\n",
    "    + geom_line(aes(x='q', y='y'), color='blue')\n",
    "    + geom_point(aes(x='q', y='y',color='new_q'))\n",
    ")"
   ]
  },
  {
   "cell_type": "markdown",
   "id": "ccf010a9",
   "metadata": {},
   "source": [
    "### Cases > 0\n",
    "\n",
    "The model needs to predict always cases > 0. If the model predicts a value < 0, we need to set it to 0."
   ]
  },
  {
   "cell_type": "code",
   "execution_count": 72,
   "id": "ce7b9e88",
   "metadata": {},
   "outputs": [],
   "source": [
    "qcols = validation1.columns[4:]\n",
    "validation1=validation1.with_columns([\n",
    "    pl.when(pl.col(q) < 0).then(0).otherwise(pl.col(q)).alias(q)\n",
    "    for q in qcols\n",
    "])"
   ]
  },
  {
   "cell_type": "markdown",
   "id": "c449bdc8-8847-4397-87e8-210bd731abd2",
   "metadata": {},
   "source": [
    "## Adjusting Format for Submission"
   ]
  },
  {
   "cell_type": "code",
   "execution_count": 21,
   "id": "d79b32ed-b52e-4f31-a921-5d974f202498",
   "metadata": {},
   "outputs": [],
   "source": [
    "# lower_95\tlower_90\tlower_80\tlower_50\tpred\tupper_50\tupper_80\tupper_90\tupper_95\tdate\n",
    "# [2.5, 5, 10, 25, 50, 75, 90, 95, 97.5]\n",
    "columns_submission = ['lower_95','lower_90','lower_80','lower_50','pred','upper_50','upper_80','upper_90','upper_95','date']\n",
    "submission = predictions.rename(\n",
    "    {\n",
    "        'timestamp':'date',\n",
    "        '0.025':'lower_95',\n",
    "        '0.05' :'lower_90',\n",
    "        '0.1'  :'lower_80',\n",
    "        '0.25' :'lower_50',\n",
    "        '0.5':'pred',\n",
    "        '0.75' :'upper_50',\n",
    "        '0.9'  :'upper_80',\n",
    "        '0.95' :'upper_90',\n",
    "        '0.975':'upper_95',\n",
    "    })[columns_submission]\n",
    "submission = submission.with_columns(\n",
    "    pl.col('date').dt.date()\n",
    ")"
   ]
  },
  {
   "cell_type": "code",
   "execution_count": 22,
   "id": "a3bcca7f-c168-40e6-972a-8ee9f2d5d840",
   "metadata": {},
   "outputs": [
    {
     "data": {
      "text/html": [
       "<div><style>\n",
       ".dataframe > thead > tr,\n",
       ".dataframe > tbody > tr {\n",
       "  text-align: right;\n",
       "  white-space: pre-wrap;\n",
       "}\n",
       "</style>\n",
       "<small>shape: (1_836, 10)</small><table border=\"1\" class=\"dataframe\"><thead><tr><th>lower_95</th><th>lower_90</th><th>lower_80</th><th>lower_50</th><th>pred</th><th>upper_50</th><th>upper_80</th><th>upper_90</th><th>upper_95</th><th>date</th></tr><tr><td>f64</td><td>f64</td><td>f64</td><td>f64</td><td>f64</td><td>f64</td><td>f64</td><td>f64</td><td>f64</td><td>date</td></tr></thead><tbody><tr><td>1.427971</td><td>3.60585</td><td>7.961609</td><td>19.80246</td><td>32.646072</td><td>44.014046</td><td>58.878448</td><td>64.790176</td><td>67.74604</td><td>2022-06-26</td></tr><tr><td>0.0</td><td>0.296234</td><td>5.193573</td><td>18.135551</td><td>31.444885</td><td>43.152397</td><td>58.838364</td><td>65.393326</td><td>68.670807</td><td>2022-07-03</td></tr><tr><td>0.0</td><td>0.0</td><td>1.847595</td><td>15.024055</td><td>29.168777</td><td>41.199455</td><td>59.249039</td><td>66.7976</td><td>70.57188</td><td>2022-07-10</td></tr><tr><td>0.0</td><td>0.0</td><td>1.608887</td><td>14.088104</td><td>28.488434</td><td>39.98996</td><td>58.658539</td><td>66.651703</td><td>70.648285</td><td>2022-07-17</td></tr><tr><td>0.0</td><td>0.0</td><td>0.101715</td><td>13.28801</td><td>27.669281</td><td>37.143944</td><td>55.32515</td><td>63.391685</td><td>67.424953</td><td>2022-07-24</td></tr><tr><td>&hellip;</td><td>&hellip;</td><td>&hellip;</td><td>&hellip;</td><td>&hellip;</td><td>&hellip;</td><td>&hellip;</td><td>&hellip;</td><td>&hellip;</td><td>&hellip;</td></tr><tr><td>0.0</td><td>0.0</td><td>0.0</td><td>6.007065</td><td>27.878174</td><td>64.427376</td><td>134.651184</td><td>163.52887</td><td>177.967712</td><td>2023-09-10</td></tr><tr><td>0.0</td><td>0.371727</td><td>3.995911</td><td>13.824799</td><td>24.473618</td><td>32.799904</td><td>36.980408</td><td>38.278351</td><td>38.927322</td><td>2023-09-17</td></tr><tr><td>0.0</td><td>1.061951</td><td>4.74939</td><td>14.813858</td><td>26.049774</td><td>33.688805</td><td>38.274216</td><td>40.015953</td><td>40.886822</td><td>2023-09-24</td></tr><tr><td>0.0</td><td>0.843765</td><td>4.682724</td><td>15.061493</td><td>26.676178</td><td>35.624428</td><td>42.164902</td><td>44.597694</td><td>45.814091</td><td>2023-10-01</td></tr><tr><td>1.816174</td><td>3.739754</td><td>7.586914</td><td>18.090607</td><td>30.217361</td><td>40.150269</td><td>49.148933</td><td>52.780888</td><td>54.596865</td><td>2023-10-08</td></tr></tbody></table></div>"
      ],
      "text/plain": [
       "shape: (1_836, 10)\n",
       "┌──────────┬──────────┬──────────┬───────────┬───┬────────────┬───────────┬────────────┬───────────┐\n",
       "│ lower_95 ┆ lower_90 ┆ lower_80 ┆ lower_50  ┆ … ┆ upper_80   ┆ upper_90  ┆ upper_95   ┆ date      │\n",
       "│ ---      ┆ ---      ┆ ---      ┆ ---       ┆   ┆ ---        ┆ ---       ┆ ---        ┆ ---       │\n",
       "│ f64      ┆ f64      ┆ f64      ┆ f64       ┆   ┆ f64        ┆ f64       ┆ f64        ┆ date      │\n",
       "╞══════════╪══════════╪══════════╪═══════════╪═══╪════════════╪═══════════╪════════════╪═══════════╡\n",
       "│ 1.427971 ┆ 3.60585  ┆ 7.961609 ┆ 19.80246  ┆ … ┆ 58.878448  ┆ 64.790176 ┆ 67.74604   ┆ 2022-06-2 │\n",
       "│          ┆          ┆          ┆           ┆   ┆            ┆           ┆            ┆ 6         │\n",
       "│ 0.0      ┆ 0.296234 ┆ 5.193573 ┆ 18.135551 ┆ … ┆ 58.838364  ┆ 65.393326 ┆ 68.670807  ┆ 2022-07-0 │\n",
       "│          ┆          ┆          ┆           ┆   ┆            ┆           ┆            ┆ 3         │\n",
       "│ 0.0      ┆ 0.0      ┆ 1.847595 ┆ 15.024055 ┆ … ┆ 59.249039  ┆ 66.7976   ┆ 70.57188   ┆ 2022-07-1 │\n",
       "│          ┆          ┆          ┆           ┆   ┆            ┆           ┆            ┆ 0         │\n",
       "│ 0.0      ┆ 0.0      ┆ 1.608887 ┆ 14.088104 ┆ … ┆ 58.658539  ┆ 66.651703 ┆ 70.648285  ┆ 2022-07-1 │\n",
       "│          ┆          ┆          ┆           ┆   ┆            ┆           ┆            ┆ 7         │\n",
       "│ 0.0      ┆ 0.0      ┆ 0.101715 ┆ 13.28801  ┆ … ┆ 55.32515   ┆ 63.391685 ┆ 67.424953  ┆ 2022-07-2 │\n",
       "│          ┆          ┆          ┆           ┆   ┆            ┆           ┆            ┆ 4         │\n",
       "│ …        ┆ …        ┆ …        ┆ …         ┆ … ┆ …          ┆ …         ┆ …          ┆ …         │\n",
       "│ 0.0      ┆ 0.0      ┆ 0.0      ┆ 6.007065  ┆ … ┆ 134.651184 ┆ 163.52887 ┆ 177.967712 ┆ 2023-09-1 │\n",
       "│          ┆          ┆          ┆           ┆   ┆            ┆           ┆            ┆ 0         │\n",
       "│ 0.0      ┆ 0.371727 ┆ 3.995911 ┆ 13.824799 ┆ … ┆ 36.980408  ┆ 38.278351 ┆ 38.927322  ┆ 2023-09-1 │\n",
       "│          ┆          ┆          ┆           ┆   ┆            ┆           ┆            ┆ 7         │\n",
       "│ 0.0      ┆ 1.061951 ┆ 4.74939  ┆ 14.813858 ┆ … ┆ 38.274216  ┆ 40.015953 ┆ 40.886822  ┆ 2023-09-2 │\n",
       "│          ┆          ┆          ┆           ┆   ┆            ┆           ┆            ┆ 4         │\n",
       "│ 0.0      ┆ 0.843765 ┆ 4.682724 ┆ 15.061493 ┆ … ┆ 42.164902  ┆ 44.597694 ┆ 45.814091  ┆ 2023-10-0 │\n",
       "│          ┆          ┆          ┆           ┆   ┆            ┆           ┆            ┆ 1         │\n",
       "│ 1.816174 ┆ 3.739754 ┆ 7.586914 ┆ 18.090607 ┆ … ┆ 49.148933  ┆ 52.780888 ┆ 54.596865  ┆ 2023-10-0 │\n",
       "│          ┆          ┆          ┆           ┆   ┆            ┆           ┆            ┆ 8         │\n",
       "└──────────┴──────────┴──────────┴───────────┴───┴────────────┴───────────┴────────────┴───────────┘"
      ]
     },
     "execution_count": 22,
     "metadata": {},
     "output_type": "execute_result"
    }
   ],
   "source": [
    "submission"
   ]
  }
 ],
 "metadata": {
  "kernelspec": {
   "display_name": "sprint2025",
   "language": "python",
   "name": "sprint2025"
  },
  "language_info": {
   "codemirror_mode": {
    "name": "ipython",
    "version": 3
   },
   "file_extension": ".py",
   "mimetype": "text/x-python",
   "name": "python",
   "nbconvert_exporter": "python",
   "pygments_lexer": "ipython3",
   "version": "3.11.11"
  }
 },
 "nbformat": 4,
 "nbformat_minor": 5
}
