{
 "cells": [
  {
   "cell_type": "code",
   "execution_count": 45,
   "id": "34ba069b",
   "metadata": {},
   "outputs": [],
   "source": [
    "import polars as pl\n",
    "import os\n",
    "from dotenv import load_dotenv\n",
    "import mosqlient as mosq\n",
    "import subprocess\n",
    "\n",
    "# Load environment variables from .env file\n",
    "load_dotenv()\n",
    "\n",
    "# Access the environment variables\n",
    "api_key = os.getenv('API_KEY')\n",
    "\n",
    "def get_git_commit_hash():\n",
    "    try:\n",
    "        commit_hash = subprocess.check_output(['git', 'rev-parse', 'HEAD'], cwd=os.path.dirname(os.path.abspath(__file__))).decode('ascii').strip()\n",
    "    except Exception:\n",
    "        # fallback: try from current working directory\n",
    "        try:\n",
    "            commit_hash = subprocess.check_output(['git', 'rev-parse', 'HEAD']).decode('ascii').strip()\n",
    "        except Exception:\n",
    "            commit_hash = None\n",
    "    return commit_hash\n",
    "\n",
    "COMMIT = get_git_commit_hash()"
   ]
  },
  {
   "cell_type": "code",
   "execution_count": 8,
   "id": "4efcf128",
   "metadata": {},
   "outputs": [
    {
     "data": {
      "text/plain": [
       "{'id': 133,\n",
       " 'name': 'Chronos-Bolt',\n",
       " 'description': 'Chronos-Bolt model fine-tuned for 2025 Sprint',\n",
       " 'author': {'user': {'name': 'Davi Sales Barreira',\n",
       "   'username': 'davibarreira'},\n",
       "  'institution': 'FGV'},\n",
       " 'repository': 'https://github.com/davibarreira/jbd-mosqlimate-sprint',\n",
       " 'implementation_language': {'language': 'Python'},\n",
       " 'disease': 'dengue',\n",
       " 'categorical': False,\n",
       " 'spatial': False,\n",
       " 'temporal': True,\n",
       " 'adm_level': 1,\n",
       " 'time_resolution': 'week',\n",
       " 'sprint': True}"
      ]
     },
     "execution_count": 8,
     "metadata": {},
     "output_type": "execute_result"
    }
   ],
   "source": [
    "name = \"Chronos-Bolt\"\n",
    "description = \"Chronos-Bolt model fine-tuned for 2025 Sprint\"\n",
    "repository = \"https://github.com/davibarreira/jbd-mosqlimate-sprint\"\n",
    "implementation_language = \"Python\"\n",
    "disease = \"dengue\"\n",
    "temporal = True\n",
    "spatial = False\n",
    "categorical = False\n",
    "adm_level = 1\n",
    "time_resolution = \"week\"\n",
    "sprint = True\n",
    "\n",
    "model = mosq.upload_model(\n",
    "    api_key=api_key,\n",
    "    name=name,\n",
    "    description=description,\n",
    "    repository=repository,\n",
    "    implementation_language=implementation_language,\n",
    "    disease=disease,\n",
    "    temporal=temporal,\n",
    "    spatial=spatial,\n",
    "    categorical=categorical,\n",
    "    adm_level=adm_level,\n",
    "    time_resolution=time_resolution,\n",
    "    sprint=sprint\n",
    ")\n",
    "model.dict()"
   ]
  },
  {
   "cell_type": "code",
   "execution_count": null,
   "id": "0f34c450",
   "metadata": {},
   "outputs": [],
   "source": [
    "model_id = 133\n"
   ]
  },
  {
   "cell_type": "code",
   "execution_count": null,
   "id": "55f143c1",
   "metadata": {},
   "outputs": [],
   "source": [
    "for i in [1,2,3]:\n",
    "    submission = pl.read_parquet(f'../data/5_predictions/submission{i}.parquet')\n",
    "    for uf in submission['uf'].unique():\n",
    "        df = submission.filter(pl.col('uf') == uf).drop('uf').to_pandas()\n",
    "\n",
    "        res = mosq.upload_prediction(\n",
    "                    model_id = model_id, \n",
    "                    description = f'Validation set {i} for {uf} using Chronos-Bolt', \n",
    "                    commit = COMMIT,\n",
    "                    predict_date = '2025-07-31', \n",
    "                    prediction = df,\n",
    "                    adm_1=uf,\n",
    "                    api_key = api_key)"
   ]
  },
  {
   "cell_type": "code",
   "execution_count": null,
   "id": "91cd7f98",
   "metadata": {},
   "outputs": [],
   "source": []
  }
 ],
 "metadata": {
  "kernelspec": {
   "display_name": "sprint2025",
   "language": "python",
   "name": "sprint2025"
  },
  "language_info": {
   "codemirror_mode": {
    "name": "ipython",
    "version": 3
   },
   "file_extension": ".py",
   "mimetype": "text/x-python",
   "name": "python",
   "nbconvert_exporter": "python",
   "pygments_lexer": "ipython3",
   "version": "3.11.11"
  }
 },
 "nbformat": 4,
 "nbformat_minor": 5
}
