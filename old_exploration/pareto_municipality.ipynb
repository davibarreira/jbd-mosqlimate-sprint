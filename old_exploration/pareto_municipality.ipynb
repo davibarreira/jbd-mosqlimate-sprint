{
 "cells": [
  {
   "cell_type": "markdown",
   "id": "38b0a86c-80d6-478f-a8ce-e95aba7001da",
   "metadata": {},
   "source": [
    "## Pareto Municipality\n",
    "\n",
    "The dengue data is originally provided at the municipality level, which is the smallest administrative unit in Brazil.\n",
    "Yet, Brazil is a very large country, having 5570 municipalities in the dataset. Creating forecasts for each\n",
    "municipality would be computationally expensive and not very useful, as many of them have very few cases.\n",
    "Thus, the goal of this notebook is to try to select a subset of municipalities.\n",
    "\n",
    "#### Notes on Methodology\n",
    "\n",
    "The Mosqlimate sprint objective is to predict on the state level. Therefore, our selection of municipalities must\n",
    "consider such division.\n",
    "\n",
    "Some states have much more concentration than others. Hence, we must determine a different quantity of  municipalities\n",
    "to be used by UF.\n",
    "\n",
    "- DF has a single municipality, so nothing has to be done."
   ]
  },
  {
   "cell_type": "code",
   "execution_count": 17,
   "id": "f36bd411-bcd7-489e-bda4-74f8b3588c30",
   "metadata": {},
   "outputs": [
    {
     "data": {
      "text/html": [
       "\n",
       "            <div id=\"cAk7Sy\"></div>\n",
       "            <script type=\"text/javascript\" data-lets-plot-script=\"library\">\n",
       "                if(!window.letsPlotCallQueue) {\n",
       "                    window.letsPlotCallQueue = [];\n",
       "                }; \n",
       "                window.letsPlotCall = function(f) {\n",
       "                    window.letsPlotCallQueue.push(f);\n",
       "                };\n",
       "                (function() {\n",
       "                    var script = document.createElement(\"script\");\n",
       "                    script.type = \"text/javascript\";\n",
       "                    script.src = \"https://cdn.jsdelivr.net/gh/JetBrains/lets-plot@v4.6.2/js-package/distr/lets-plot.min.js\";\n",
       "                    script.onload = function() {\n",
       "                        window.letsPlotCall = function(f) {f();};\n",
       "                        window.letsPlotCallQueue.forEach(function(f) {f();});\n",
       "                        window.letsPlotCallQueue = [];\n",
       "                        \n",
       "                    };\n",
       "                    script.onerror = function(event) {\n",
       "                        window.letsPlotCall = function(f) {};    // noop\n",
       "                        window.letsPlotCallQueue = [];\n",
       "                        var div = document.createElement(\"div\");\n",
       "                        div.style.color = 'darkred';\n",
       "                        div.textContent = 'Error loading Lets-Plot JS';\n",
       "                        document.getElementById(\"cAk7Sy\").appendChild(div);\n",
       "                    };\n",
       "                    var e = document.getElementById(\"cAk7Sy\");\n",
       "                    e.appendChild(script);\n",
       "                })()\n",
       "            </script>\n",
       "            "
      ]
     },
     "metadata": {},
     "output_type": "display_data"
    }
   ],
   "source": [
    "import numpy as np\n",
    "import pandas as pd\n",
    "import polars as pl\n",
    "pl.Config.set_tbl_rows(30)\n",
    "from autogluon.timeseries import TimeSeriesDataFrame, TimeSeriesPredictor\n",
    "from lets_plot import *\n",
    "LetsPlot.setup_html()\n",
    "from matplotlib import pyplot as plt\n",
    "\n",
    "\n",
    "from inequality import gini"
   ]
  },
  {
   "cell_type": "code",
   "execution_count": 3,
   "id": "863b3093-aa78-43e0-8448-913ddcebd1b5",
   "metadata": {},
   "outputs": [],
   "source": [
    "data = pl.read_parquet('../data/dataset_complete_dengue_municipality.parquet')"
   ]
  },
  {
   "cell_type": "code",
   "execution_count": 75,
   "id": "6d208cac-dc9a-4c63-a257-263ccd17f0ff",
   "metadata": {},
   "outputs": [
    {
     "data": {
      "text/html": [
       "<div><style>\n",
       ".dataframe > thead > tr,\n",
       ".dataframe > tbody > tr {\n",
       "  text-align: right;\n",
       "  white-space: pre-wrap;\n",
       "}\n",
       "</style>\n",
       "<small>shape: (5_570, 10)</small><table border=\"1\" class=\"dataframe\"><thead><tr><th>geocode</th><th>uf</th><th>casos</th><th>casos_uf</th><th>log_casos</th><th>log_casos_uf</th><th>casos_percent_uf</th><th>log_casos_percent_uf</th><th>rank_within_uf</th><th>cumulative_share</th></tr><tr><td>i64</td><td>str</td><td>i64</td><td>i64</td><td>f64</td><td>f64</td><td>f64</td><td>f64</td><td>u32</td><td>f64</td></tr></thead><tbody><tr><td>1721000</td><td>&quot;TO&quot;</td><td>51706</td><td>126949</td><td>10.853348</td><td>11.751549</td><td>0.407297</td><td>0.923568</td><td>1</td><td>0.407297</td></tr><tr><td>1702109</td><td>&quot;TO&quot;</td><td>14370</td><td>126949</td><td>9.572968</td><td>11.751549</td><td>0.113195</td><td>0.814613</td><td>2</td><td>0.520492</td></tr><tr><td>1718204</td><td>&quot;TO&quot;</td><td>5152</td><td>126949</td><td>8.547334</td><td>11.751549</td><td>0.040583</td><td>0.727337</td><td>3</td><td>0.561076</td></tr><tr><td>1716109</td><td>&quot;TO&quot;</td><td>4995</td><td>126949</td><td>8.516393</td><td>11.751549</td><td>0.039347</td><td>0.724704</td><td>4</td><td>0.600422</td></tr><tr><td>1709500</td><td>&quot;TO&quot;</td><td>4238</td><td>126949</td><td>8.352083</td><td>11.751549</td><td>0.033383</td><td>0.710722</td><td>5</td><td>0.633806</td></tr><tr><td>1707009</td><td>&quot;TO&quot;</td><td>2675</td><td>126949</td><td>7.892078</td><td>11.751549</td><td>0.021071</td><td>0.671578</td><td>6</td><td>0.654877</td></tr><tr><td>1705508</td><td>&quot;TO&quot;</td><td>2403</td><td>126949</td><td>7.784889</td><td>11.751549</td><td>0.018929</td><td>0.662456</td><td>7</td><td>0.673806</td></tr><tr><td>1702000</td><td>&quot;TO&quot;</td><td>2207</td><td>126949</td><td>7.699842</td><td>11.751549</td><td>0.017385</td><td>0.655219</td><td>8</td><td>0.691191</td></tr><tr><td>1721208</td><td>&quot;TO&quot;</td><td>2200</td><td>126949</td><td>7.696667</td><td>11.751549</td><td>0.01733</td><td>0.654949</td><td>9</td><td>0.708521</td></tr><tr><td>1708205</td><td>&quot;TO&quot;</td><td>2122</td><td>126949</td><td>7.660585</td><td>11.751549</td><td>0.016715</td><td>0.651879</td><td>10</td><td>0.725236</td></tr><tr><td>1713205</td><td>&quot;TO&quot;</td><td>2073</td><td>126949</td><td>7.637234</td><td>11.751549</td><td>0.016329</td><td>0.649892</td><td>11</td><td>0.741566</td></tr><tr><td>1702406</td><td>&quot;TO&quot;</td><td>1715</td><td>126949</td><td>7.447751</td><td>11.751549</td><td>0.013509</td><td>0.633768</td><td>12</td><td>0.755075</td></tr><tr><td>1709302</td><td>&quot;TO&quot;</td><td>1180</td><td>126949</td><td>7.074117</td><td>11.751549</td><td>0.009295</td><td>0.601973</td><td>13</td><td>0.76437</td></tr><tr><td>1711902</td><td>&quot;TO&quot;</td><td>1178</td><td>126949</td><td>7.072422</td><td>11.751549</td><td>0.009279</td><td>0.601829</td><td>14</td><td>0.773649</td></tr><tr><td>1715754</td><td>&quot;TO&quot;</td><td>934</td><td>126949</td><td>6.840547</td><td>11.751549</td><td>0.007357</td><td>0.582097</td><td>15</td><td>0.781007</td></tr><tr><td>&hellip;</td><td>&hellip;</td><td>&hellip;</td><td>&hellip;</td><td>&hellip;</td><td>&hellip;</td><td>&hellip;</td><td>&hellip;</td><td>&hellip;</td><td>&hellip;</td></tr><tr><td>1200054</td><td>&quot;AC&quot;</td><td>2793</td><td>166131</td><td>7.93523</td><td>12.020538</td><td>0.016812</td><td>0.660139</td><td>8</td><td>0.917126</td></tr><tr><td>1200427</td><td>&quot;AC&quot;</td><td>2358</td><td>166131</td><td>7.765993</td><td>12.020538</td><td>0.014194</td><td>0.64606</td><td>9</td><td>0.931319</td></tr><tr><td>1200336</td><td>&quot;AC&quot;</td><td>1883</td><td>166131</td><td>7.541152</td><td>12.020538</td><td>0.011334</td><td>0.627356</td><td>10</td><td>0.942654</td></tr><tr><td>1200351</td><td>&quot;AC&quot;</td><td>1696</td><td>166131</td><td>7.436617</td><td>12.020538</td><td>0.010209</td><td>0.618659</td><td>11</td><td>0.952863</td></tr><tr><td>1200385</td><td>&quot;AC&quot;</td><td>1399</td><td>166131</td><td>7.244228</td><td>12.020538</td><td>0.008421</td><td>0.602654</td><td>12</td><td>0.961284</td></tr><tr><td>1200013</td><td>&quot;AC&quot;</td><td>1383</td><td>166131</td><td>7.232733</td><td>12.020538</td><td>0.008325</td><td>0.601698</td><td>13</td><td>0.969608</td></tr><tr><td>1200450</td><td>&quot;AC&quot;</td><td>1332</td><td>166131</td><td>7.195187</td><td>12.020538</td><td>0.008018</td><td>0.598574</td><td>14</td><td>0.977626</td></tr><tr><td>1200179</td><td>&quot;AC&quot;</td><td>846</td><td>166131</td><td>6.741701</td><td>12.020538</td><td>0.005092</td><td>0.560849</td><td>15</td><td>0.982718</td></tr><tr><td>1200252</td><td>&quot;AC&quot;</td><td>769</td><td>166131</td><td>6.646391</td><td>12.020538</td><td>0.004629</td><td>0.55292</td><td>16</td><td>0.987347</td></tr><tr><td>1200344</td><td>&quot;AC&quot;</td><td>735</td><td>166131</td><td>6.60123</td><td>12.020538</td><td>0.004424</td><td>0.549163</td><td>17</td><td>0.991772</td></tr><tr><td>1200393</td><td>&quot;AC&quot;</td><td>524</td><td>166131</td><td>6.263398</td><td>12.020538</td><td>0.003154</td><td>0.521058</td><td>18</td><td>0.994926</td></tr><tr><td>1200807</td><td>&quot;AC&quot;</td><td>523</td><td>166131</td><td>6.261492</td><td>12.020538</td><td>0.003148</td><td>0.520899</td><td>19</td><td>0.998074</td></tr><tr><td>1200138</td><td>&quot;AC&quot;</td><td>310</td><td>166131</td><td>5.739793</td><td>12.020538</td><td>0.001866</td><td>0.477499</td><td>20</td><td>0.99994</td></tr><tr><td>1200435</td><td>&quot;AC&quot;</td><td>6</td><td>166131</td><td>1.94591</td><td>12.020538</td><td>0.000036</td><td>0.161882</td><td>21</td><td>0.999976</td></tr><tr><td>1200328</td><td>&quot;AC&quot;</td><td>4</td><td>166131</td><td>1.609438</td><td>12.020538</td><td>0.000024</td><td>0.133891</td><td>22</td><td>1.0</td></tr></tbody></table></div>"
      ],
      "text/plain": [
       "shape: (5_570, 10)\n",
       "┌─────────┬─────┬───────┬──────────┬───┬──────────────┬──────────────┬──────────────┬──────────────┐\n",
       "│ geocode ┆ uf  ┆ casos ┆ casos_uf ┆ … ┆ casos_percen ┆ log_casos_pe ┆ rank_within_ ┆ cumulative_s │\n",
       "│ ---     ┆ --- ┆ ---   ┆ ---      ┆   ┆ t_uf         ┆ rcent_uf     ┆ uf           ┆ hare         │\n",
       "│ i64     ┆ str ┆ i64   ┆ i64      ┆   ┆ ---          ┆ ---          ┆ ---          ┆ ---          │\n",
       "│         ┆     ┆       ┆          ┆   ┆ f64          ┆ f64          ┆ u32          ┆ f64          │\n",
       "╞═════════╪═════╪═══════╪══════════╪═══╪══════════════╪══════════════╪══════════════╪══════════════╡\n",
       "│ 1721000 ┆ TO  ┆ 51706 ┆ 126949   ┆ … ┆ 0.407297     ┆ 0.923568     ┆ 1            ┆ 0.407297     │\n",
       "│ 1702109 ┆ TO  ┆ 14370 ┆ 126949   ┆ … ┆ 0.113195     ┆ 0.814613     ┆ 2            ┆ 0.520492     │\n",
       "│ 1718204 ┆ TO  ┆ 5152  ┆ 126949   ┆ … ┆ 0.040583     ┆ 0.727337     ┆ 3            ┆ 0.561076     │\n",
       "│ 1716109 ┆ TO  ┆ 4995  ┆ 126949   ┆ … ┆ 0.039347     ┆ 0.724704     ┆ 4            ┆ 0.600422     │\n",
       "│ 1709500 ┆ TO  ┆ 4238  ┆ 126949   ┆ … ┆ 0.033383     ┆ 0.710722     ┆ 5            ┆ 0.633806     │\n",
       "│ 1707009 ┆ TO  ┆ 2675  ┆ 126949   ┆ … ┆ 0.021071     ┆ 0.671578     ┆ 6            ┆ 0.654877     │\n",
       "│ 1705508 ┆ TO  ┆ 2403  ┆ 126949   ┆ … ┆ 0.018929     ┆ 0.662456     ┆ 7            ┆ 0.673806     │\n",
       "│ 1702000 ┆ TO  ┆ 2207  ┆ 126949   ┆ … ┆ 0.017385     ┆ 0.655219     ┆ 8            ┆ 0.691191     │\n",
       "│ 1721208 ┆ TO  ┆ 2200  ┆ 126949   ┆ … ┆ 0.01733      ┆ 0.654949     ┆ 9            ┆ 0.708521     │\n",
       "│ 1708205 ┆ TO  ┆ 2122  ┆ 126949   ┆ … ┆ 0.016715     ┆ 0.651879     ┆ 10           ┆ 0.725236     │\n",
       "│ 1713205 ┆ TO  ┆ 2073  ┆ 126949   ┆ … ┆ 0.016329     ┆ 0.649892     ┆ 11           ┆ 0.741566     │\n",
       "│ 1702406 ┆ TO  ┆ 1715  ┆ 126949   ┆ … ┆ 0.013509     ┆ 0.633768     ┆ 12           ┆ 0.755075     │\n",
       "│ 1709302 ┆ TO  ┆ 1180  ┆ 126949   ┆ … ┆ 0.009295     ┆ 0.601973     ┆ 13           ┆ 0.76437      │\n",
       "│ 1711902 ┆ TO  ┆ 1178  ┆ 126949   ┆ … ┆ 0.009279     ┆ 0.601829     ┆ 14           ┆ 0.773649     │\n",
       "│ 1715754 ┆ TO  ┆ 934   ┆ 126949   ┆ … ┆ 0.007357     ┆ 0.582097     ┆ 15           ┆ 0.781007     │\n",
       "│ …       ┆ …   ┆ …     ┆ …        ┆ … ┆ …            ┆ …            ┆ …            ┆ …            │\n",
       "│ 1200054 ┆ AC  ┆ 2793  ┆ 166131   ┆ … ┆ 0.016812     ┆ 0.660139     ┆ 8            ┆ 0.917126     │\n",
       "│ 1200427 ┆ AC  ┆ 2358  ┆ 166131   ┆ … ┆ 0.014194     ┆ 0.64606      ┆ 9            ┆ 0.931319     │\n",
       "│ 1200336 ┆ AC  ┆ 1883  ┆ 166131   ┆ … ┆ 0.011334     ┆ 0.627356     ┆ 10           ┆ 0.942654     │\n",
       "│ 1200351 ┆ AC  ┆ 1696  ┆ 166131   ┆ … ┆ 0.010209     ┆ 0.618659     ┆ 11           ┆ 0.952863     │\n",
       "│ 1200385 ┆ AC  ┆ 1399  ┆ 166131   ┆ … ┆ 0.008421     ┆ 0.602654     ┆ 12           ┆ 0.961284     │\n",
       "│ 1200013 ┆ AC  ┆ 1383  ┆ 166131   ┆ … ┆ 0.008325     ┆ 0.601698     ┆ 13           ┆ 0.969608     │\n",
       "│ 1200450 ┆ AC  ┆ 1332  ┆ 166131   ┆ … ┆ 0.008018     ┆ 0.598574     ┆ 14           ┆ 0.977626     │\n",
       "│ 1200179 ┆ AC  ┆ 846   ┆ 166131   ┆ … ┆ 0.005092     ┆ 0.560849     ┆ 15           ┆ 0.982718     │\n",
       "│ 1200252 ┆ AC  ┆ 769   ┆ 166131   ┆ … ┆ 0.004629     ┆ 0.55292      ┆ 16           ┆ 0.987347     │\n",
       "│ 1200344 ┆ AC  ┆ 735   ┆ 166131   ┆ … ┆ 0.004424     ┆ 0.549163     ┆ 17           ┆ 0.991772     │\n",
       "│ 1200393 ┆ AC  ┆ 524   ┆ 166131   ┆ … ┆ 0.003154     ┆ 0.521058     ┆ 18           ┆ 0.994926     │\n",
       "│ 1200807 ┆ AC  ┆ 523   ┆ 166131   ┆ … ┆ 0.003148     ┆ 0.520899     ┆ 19           ┆ 0.998074     │\n",
       "│ 1200138 ┆ AC  ┆ 310   ┆ 166131   ┆ … ┆ 0.001866     ┆ 0.477499     ┆ 20           ┆ 0.99994      │\n",
       "│ 1200435 ┆ AC  ┆ 6     ┆ 166131   ┆ … ┆ 0.000036     ┆ 0.161882     ┆ 21           ┆ 0.999976     │\n",
       "│ 1200328 ┆ AC  ┆ 4     ┆ 166131   ┆ … ┆ 0.000024     ┆ 0.133891     ┆ 22           ┆ 1.0          │\n",
       "└─────────┴─────┴───────┴──────────┴───┴──────────────┴──────────────┴──────────────┴──────────────┘"
      ]
     },
     "execution_count": 75,
     "metadata": {},
     "output_type": "execute_result"
    }
   ],
   "source": [
    "gdf = data.group_by(['geocode','uf']).agg(pl.col('casos').sum().alias('casos'))\n",
    "gdf = gdf.join(gdf.group_by(['uf']).agg(pl.col('casos').sum().alias('casos_uf')),on=['uf'])\n",
    "gdf = gdf.with_columns(\n",
    "    np.log1p(pl.col('casos')).alias('log_casos'),\n",
    "    np.log1p(pl.col('casos_uf')).alias('log_casos_uf'),\n",
    "    (pl.col('casos')/pl.col('casos_uf')).alias('casos_percent_uf'),\n",
    ")\n",
    "gdf = gdf.with_columns((pl.col('log_casos')/pl.col('log_casos_uf')).alias('log_casos_percent_uf'))\n",
    "\n",
    "gdf = gdf.with_columns(\n",
    "    pl.col(\"casos_percent_uf\")\n",
    "    .rank(\"ordinal\", descending=True)\n",
    "    .over([\"uf\"])\n",
    "    .alias(\"rank_within_uf\")\n",
    ")\n",
    "\n",
    "gdf = gdf.sort(['uf','casos_percent_uf'],descending=True).with_columns(\n",
    "    pl.col(\"casos_percent_uf\")\n",
    "    .cum_sum()\n",
    "    .over([\"uf\"])\n",
    "    .alias(\"cumulative_share\")\n",
    ")\n",
    "\n",
    "gdf\n"
   ]
  },
  {
   "cell_type": "code",
   "execution_count": 125,
   "id": "ee083485-097d-4991-852a-a518f956772f",
   "metadata": {},
   "outputs": [],
   "source": [
    "def filter_by_casos_percent_uf(df: pl.dataframe, threshold: float = 0.8) -> pl.dataframe:\n",
    "    \"\"\"\n",
    "    Filters the input DataFrame to retain municipalities that cumulatively explain up to a specified percentage\n",
    "    of dengue cases within each state (UF).\n",
    "\n",
    "    Parameters:\n",
    "    ----------\n",
    "    df : pl.DataFrame\n",
    "        Input Polars DataFrame containing dengue case data at the municipality level.\n",
    "        Must include the following columns:\n",
    "        - 'uf': State code.\n",
    "        - 'casos_percent_uf': Percentage of cases contributed by each municipality within its state.\n",
    "\n",
    "    threshold : float, optional (default=0.8)\n",
    "        The cumulative percentage threshold for filtering municipalities. Only municipalities that contribute\n",
    "        to the cumulative percentage of cases up to this threshold will be retained.\n",
    "\n",
    "    Returns:\n",
    "    -------\n",
    "    pl.DataFrame\n",
    "        A filtered Polars DataFrame containing only the municipalities that meet the cumulative percentage\n",
    "        threshold criteria within each state.\n",
    "    \"\"\"\n",
    "\n",
    "    df = (\n",
    "        df.sort([\"uf\", \"rank_within_uf\"])\n",
    "        .with_columns([\n",
    "            # Compute cumulative sum per group\n",
    "            pl.col(\"casos_percent_uf\").cum_sum().over(\"uf\").alias(\"cum_sum\")\n",
    "        ])\n",
    "        .with_columns([\n",
    "            # Flag: cum_sum <= threshold\n",
    "            (pl.col(\"cum_sum\") < threshold).alias(\"keep_flag\"),\n",
    "        ])\n",
    "        .with_columns([\n",
    "            # Shift cross_flag backward per group\n",
    "            pl.col(\"keep_flag\").shift(1).fill_null(True).over(\"uf\").alias(\"keep_flag\")\n",
    "        ])\n",
    "        .filter(\n",
    "            pl.col(\"keep_flag\")\n",
    "        )        .drop([\"keep_flag\"])\n",
    "\n",
    "    )\n",
    "    return df\n",
    "\n",
    "pareto = filter_by_casos_percent_uf(gdf,0.70)"
   ]
  },
  {
   "cell_type": "code",
   "execution_count": 132,
   "id": "f0d15aaf-78ef-4b6c-bb21-ba9a56220e18",
   "metadata": {},
   "outputs": [
    {
     "data": {
      "text/html": [
       "<div><style>\n",
       ".dataframe > thead > tr,\n",
       ".dataframe > tbody > tr {\n",
       "  text-align: right;\n",
       "  white-space: pre-wrap;\n",
       "}\n",
       "</style>\n",
       "<small>shape: (5_570, 10)</small><table border=\"1\" class=\"dataframe\"><thead><tr><th>geocode</th><th>uf</th><th>casos</th><th>casos_uf</th><th>log_casos</th><th>log_casos_uf</th><th>casos_percent_uf</th><th>log_casos_percent_uf</th><th>rank_within_uf</th><th>cumulative_share</th></tr><tr><td>i64</td><td>str</td><td>i64</td><td>i64</td><td>f64</td><td>f64</td><td>f64</td><td>f64</td><td>u32</td><td>f64</td></tr></thead><tbody><tr><td>1721000</td><td>&quot;TO&quot;</td><td>51706</td><td>126949</td><td>10.853348</td><td>11.751549</td><td>0.407297</td><td>0.923568</td><td>1</td><td>0.407297</td></tr><tr><td>1702109</td><td>&quot;TO&quot;</td><td>14370</td><td>126949</td><td>9.572968</td><td>11.751549</td><td>0.113195</td><td>0.814613</td><td>2</td><td>0.520492</td></tr><tr><td>1718204</td><td>&quot;TO&quot;</td><td>5152</td><td>126949</td><td>8.547334</td><td>11.751549</td><td>0.040583</td><td>0.727337</td><td>3</td><td>0.561076</td></tr><tr><td>1716109</td><td>&quot;TO&quot;</td><td>4995</td><td>126949</td><td>8.516393</td><td>11.751549</td><td>0.039347</td><td>0.724704</td><td>4</td><td>0.600422</td></tr><tr><td>1709500</td><td>&quot;TO&quot;</td><td>4238</td><td>126949</td><td>8.352083</td><td>11.751549</td><td>0.033383</td><td>0.710722</td><td>5</td><td>0.633806</td></tr><tr><td>1707009</td><td>&quot;TO&quot;</td><td>2675</td><td>126949</td><td>7.892078</td><td>11.751549</td><td>0.021071</td><td>0.671578</td><td>6</td><td>0.654877</td></tr><tr><td>1705508</td><td>&quot;TO&quot;</td><td>2403</td><td>126949</td><td>7.784889</td><td>11.751549</td><td>0.018929</td><td>0.662456</td><td>7</td><td>0.673806</td></tr><tr><td>1702000</td><td>&quot;TO&quot;</td><td>2207</td><td>126949</td><td>7.699842</td><td>11.751549</td><td>0.017385</td><td>0.655219</td><td>8</td><td>0.691191</td></tr><tr><td>1721208</td><td>&quot;TO&quot;</td><td>2200</td><td>126949</td><td>7.696667</td><td>11.751549</td><td>0.01733</td><td>0.654949</td><td>9</td><td>0.708521</td></tr><tr><td>1708205</td><td>&quot;TO&quot;</td><td>2122</td><td>126949</td><td>7.660585</td><td>11.751549</td><td>0.016715</td><td>0.651879</td><td>10</td><td>0.725236</td></tr><tr><td>1713205</td><td>&quot;TO&quot;</td><td>2073</td><td>126949</td><td>7.637234</td><td>11.751549</td><td>0.016329</td><td>0.649892</td><td>11</td><td>0.741566</td></tr><tr><td>1702406</td><td>&quot;TO&quot;</td><td>1715</td><td>126949</td><td>7.447751</td><td>11.751549</td><td>0.013509</td><td>0.633768</td><td>12</td><td>0.755075</td></tr><tr><td>1709302</td><td>&quot;TO&quot;</td><td>1180</td><td>126949</td><td>7.074117</td><td>11.751549</td><td>0.009295</td><td>0.601973</td><td>13</td><td>0.76437</td></tr><tr><td>1711902</td><td>&quot;TO&quot;</td><td>1178</td><td>126949</td><td>7.072422</td><td>11.751549</td><td>0.009279</td><td>0.601829</td><td>14</td><td>0.773649</td></tr><tr><td>1715754</td><td>&quot;TO&quot;</td><td>934</td><td>126949</td><td>6.840547</td><td>11.751549</td><td>0.007357</td><td>0.582097</td><td>15</td><td>0.781007</td></tr><tr><td>&hellip;</td><td>&hellip;</td><td>&hellip;</td><td>&hellip;</td><td>&hellip;</td><td>&hellip;</td><td>&hellip;</td><td>&hellip;</td><td>&hellip;</td><td>&hellip;</td></tr><tr><td>1200054</td><td>&quot;AC&quot;</td><td>2793</td><td>166131</td><td>7.93523</td><td>12.020538</td><td>0.016812</td><td>0.660139</td><td>8</td><td>0.917126</td></tr><tr><td>1200427</td><td>&quot;AC&quot;</td><td>2358</td><td>166131</td><td>7.765993</td><td>12.020538</td><td>0.014194</td><td>0.64606</td><td>9</td><td>0.931319</td></tr><tr><td>1200336</td><td>&quot;AC&quot;</td><td>1883</td><td>166131</td><td>7.541152</td><td>12.020538</td><td>0.011334</td><td>0.627356</td><td>10</td><td>0.942654</td></tr><tr><td>1200351</td><td>&quot;AC&quot;</td><td>1696</td><td>166131</td><td>7.436617</td><td>12.020538</td><td>0.010209</td><td>0.618659</td><td>11</td><td>0.952863</td></tr><tr><td>1200385</td><td>&quot;AC&quot;</td><td>1399</td><td>166131</td><td>7.244228</td><td>12.020538</td><td>0.008421</td><td>0.602654</td><td>12</td><td>0.961284</td></tr><tr><td>1200013</td><td>&quot;AC&quot;</td><td>1383</td><td>166131</td><td>7.232733</td><td>12.020538</td><td>0.008325</td><td>0.601698</td><td>13</td><td>0.969608</td></tr><tr><td>1200450</td><td>&quot;AC&quot;</td><td>1332</td><td>166131</td><td>7.195187</td><td>12.020538</td><td>0.008018</td><td>0.598574</td><td>14</td><td>0.977626</td></tr><tr><td>1200179</td><td>&quot;AC&quot;</td><td>846</td><td>166131</td><td>6.741701</td><td>12.020538</td><td>0.005092</td><td>0.560849</td><td>15</td><td>0.982718</td></tr><tr><td>1200252</td><td>&quot;AC&quot;</td><td>769</td><td>166131</td><td>6.646391</td><td>12.020538</td><td>0.004629</td><td>0.55292</td><td>16</td><td>0.987347</td></tr><tr><td>1200344</td><td>&quot;AC&quot;</td><td>735</td><td>166131</td><td>6.60123</td><td>12.020538</td><td>0.004424</td><td>0.549163</td><td>17</td><td>0.991772</td></tr><tr><td>1200393</td><td>&quot;AC&quot;</td><td>524</td><td>166131</td><td>6.263398</td><td>12.020538</td><td>0.003154</td><td>0.521058</td><td>18</td><td>0.994926</td></tr><tr><td>1200807</td><td>&quot;AC&quot;</td><td>523</td><td>166131</td><td>6.261492</td><td>12.020538</td><td>0.003148</td><td>0.520899</td><td>19</td><td>0.998074</td></tr><tr><td>1200138</td><td>&quot;AC&quot;</td><td>310</td><td>166131</td><td>5.739793</td><td>12.020538</td><td>0.001866</td><td>0.477499</td><td>20</td><td>0.99994</td></tr><tr><td>1200435</td><td>&quot;AC&quot;</td><td>6</td><td>166131</td><td>1.94591</td><td>12.020538</td><td>0.000036</td><td>0.161882</td><td>21</td><td>0.999976</td></tr><tr><td>1200328</td><td>&quot;AC&quot;</td><td>4</td><td>166131</td><td>1.609438</td><td>12.020538</td><td>0.000024</td><td>0.133891</td><td>22</td><td>1.0</td></tr></tbody></table></div>"
      ],
      "text/plain": [
       "shape: (5_570, 10)\n",
       "┌─────────┬─────┬───────┬──────────┬───┬──────────────┬──────────────┬──────────────┬──────────────┐\n",
       "│ geocode ┆ uf  ┆ casos ┆ casos_uf ┆ … ┆ casos_percen ┆ log_casos_pe ┆ rank_within_ ┆ cumulative_s │\n",
       "│ ---     ┆ --- ┆ ---   ┆ ---      ┆   ┆ t_uf         ┆ rcent_uf     ┆ uf           ┆ hare         │\n",
       "│ i64     ┆ str ┆ i64   ┆ i64      ┆   ┆ ---          ┆ ---          ┆ ---          ┆ ---          │\n",
       "│         ┆     ┆       ┆          ┆   ┆ f64          ┆ f64          ┆ u32          ┆ f64          │\n",
       "╞═════════╪═════╪═══════╪══════════╪═══╪══════════════╪══════════════╪══════════════╪══════════════╡\n",
       "│ 1721000 ┆ TO  ┆ 51706 ┆ 126949   ┆ … ┆ 0.407297     ┆ 0.923568     ┆ 1            ┆ 0.407297     │\n",
       "│ 1702109 ┆ TO  ┆ 14370 ┆ 126949   ┆ … ┆ 0.113195     ┆ 0.814613     ┆ 2            ┆ 0.520492     │\n",
       "│ 1718204 ┆ TO  ┆ 5152  ┆ 126949   ┆ … ┆ 0.040583     ┆ 0.727337     ┆ 3            ┆ 0.561076     │\n",
       "│ 1716109 ┆ TO  ┆ 4995  ┆ 126949   ┆ … ┆ 0.039347     ┆ 0.724704     ┆ 4            ┆ 0.600422     │\n",
       "│ 1709500 ┆ TO  ┆ 4238  ┆ 126949   ┆ … ┆ 0.033383     ┆ 0.710722     ┆ 5            ┆ 0.633806     │\n",
       "│ 1707009 ┆ TO  ┆ 2675  ┆ 126949   ┆ … ┆ 0.021071     ┆ 0.671578     ┆ 6            ┆ 0.654877     │\n",
       "│ 1705508 ┆ TO  ┆ 2403  ┆ 126949   ┆ … ┆ 0.018929     ┆ 0.662456     ┆ 7            ┆ 0.673806     │\n",
       "│ 1702000 ┆ TO  ┆ 2207  ┆ 126949   ┆ … ┆ 0.017385     ┆ 0.655219     ┆ 8            ┆ 0.691191     │\n",
       "│ 1721208 ┆ TO  ┆ 2200  ┆ 126949   ┆ … ┆ 0.01733      ┆ 0.654949     ┆ 9            ┆ 0.708521     │\n",
       "│ 1708205 ┆ TO  ┆ 2122  ┆ 126949   ┆ … ┆ 0.016715     ┆ 0.651879     ┆ 10           ┆ 0.725236     │\n",
       "│ 1713205 ┆ TO  ┆ 2073  ┆ 126949   ┆ … ┆ 0.016329     ┆ 0.649892     ┆ 11           ┆ 0.741566     │\n",
       "│ 1702406 ┆ TO  ┆ 1715  ┆ 126949   ┆ … ┆ 0.013509     ┆ 0.633768     ┆ 12           ┆ 0.755075     │\n",
       "│ 1709302 ┆ TO  ┆ 1180  ┆ 126949   ┆ … ┆ 0.009295     ┆ 0.601973     ┆ 13           ┆ 0.76437      │\n",
       "│ 1711902 ┆ TO  ┆ 1178  ┆ 126949   ┆ … ┆ 0.009279     ┆ 0.601829     ┆ 14           ┆ 0.773649     │\n",
       "│ 1715754 ┆ TO  ┆ 934   ┆ 126949   ┆ … ┆ 0.007357     ┆ 0.582097     ┆ 15           ┆ 0.781007     │\n",
       "│ …       ┆ …   ┆ …     ┆ …        ┆ … ┆ …            ┆ …            ┆ …            ┆ …            │\n",
       "│ 1200054 ┆ AC  ┆ 2793  ┆ 166131   ┆ … ┆ 0.016812     ┆ 0.660139     ┆ 8            ┆ 0.917126     │\n",
       "│ 1200427 ┆ AC  ┆ 2358  ┆ 166131   ┆ … ┆ 0.014194     ┆ 0.64606      ┆ 9            ┆ 0.931319     │\n",
       "│ 1200336 ┆ AC  ┆ 1883  ┆ 166131   ┆ … ┆ 0.011334     ┆ 0.627356     ┆ 10           ┆ 0.942654     │\n",
       "│ 1200351 ┆ AC  ┆ 1696  ┆ 166131   ┆ … ┆ 0.010209     ┆ 0.618659     ┆ 11           ┆ 0.952863     │\n",
       "│ 1200385 ┆ AC  ┆ 1399  ┆ 166131   ┆ … ┆ 0.008421     ┆ 0.602654     ┆ 12           ┆ 0.961284     │\n",
       "│ 1200013 ┆ AC  ┆ 1383  ┆ 166131   ┆ … ┆ 0.008325     ┆ 0.601698     ┆ 13           ┆ 0.969608     │\n",
       "│ 1200450 ┆ AC  ┆ 1332  ┆ 166131   ┆ … ┆ 0.008018     ┆ 0.598574     ┆ 14           ┆ 0.977626     │\n",
       "│ 1200179 ┆ AC  ┆ 846   ┆ 166131   ┆ … ┆ 0.005092     ┆ 0.560849     ┆ 15           ┆ 0.982718     │\n",
       "│ 1200252 ┆ AC  ┆ 769   ┆ 166131   ┆ … ┆ 0.004629     ┆ 0.55292      ┆ 16           ┆ 0.987347     │\n",
       "│ 1200344 ┆ AC  ┆ 735   ┆ 166131   ┆ … ┆ 0.004424     ┆ 0.549163     ┆ 17           ┆ 0.991772     │\n",
       "│ 1200393 ┆ AC  ┆ 524   ┆ 166131   ┆ … ┆ 0.003154     ┆ 0.521058     ┆ 18           ┆ 0.994926     │\n",
       "│ 1200807 ┆ AC  ┆ 523   ┆ 166131   ┆ … ┆ 0.003148     ┆ 0.520899     ┆ 19           ┆ 0.998074     │\n",
       "│ 1200138 ┆ AC  ┆ 310   ┆ 166131   ┆ … ┆ 0.001866     ┆ 0.477499     ┆ 20           ┆ 0.99994      │\n",
       "│ 1200435 ┆ AC  ┆ 6     ┆ 166131   ┆ … ┆ 0.000036     ┆ 0.161882     ┆ 21           ┆ 0.999976     │\n",
       "│ 1200328 ┆ AC  ┆ 4     ┆ 166131   ┆ … ┆ 0.000024     ┆ 0.133891     ┆ 22           ┆ 1.0          │\n",
       "└─────────┴─────┴───────┴──────────┴───┴──────────────┴──────────────┴──────────────┴──────────────┘"
      ]
     },
     "execution_count": 132,
     "metadata": {},
     "output_type": "execute_result"
    }
   ],
   "source": []
  },
  {
   "cell_type": "code",
   "execution_count": 128,
   "id": "3be6f2d3-03f1-49ba-93b4-438f9ab57e22",
   "metadata": {},
   "outputs": [
    {
     "data": {
      "text/html": [
       "<div><style>\n",
       ".dataframe > thead > tr,\n",
       ".dataframe > tbody > tr {\n",
       "  text-align: right;\n",
       "  white-space: pre-wrap;\n",
       "}\n",
       "</style>\n",
       "<small>shape: (577, 11)</small><table border=\"1\" class=\"dataframe\"><thead><tr><th>geocode</th><th>uf</th><th>casos</th><th>casos_uf</th><th>log_casos</th><th>log_casos_uf</th><th>casos_percent_uf</th><th>log_casos_percent_uf</th><th>rank_within_uf</th><th>cumulative_share</th><th>cum_sum</th></tr><tr><td>i64</td><td>str</td><td>i64</td><td>i64</td><td>f64</td><td>f64</td><td>f64</td><td>f64</td><td>u32</td><td>f64</td><td>f64</td></tr></thead><tbody><tr><td>1200401</td><td>&quot;AC&quot;</td><td>77649</td><td>166131</td><td>11.259967</td><td>12.020538</td><td>0.467396</td><td>0.936727</td><td>1</td><td>0.467396</td><td>0.467396</td></tr><tr><td>1200203</td><td>&quot;AC&quot;</td><td>48919</td><td>166131</td><td>10.797942</td><td>12.020538</td><td>0.29446</td><td>0.898291</td><td>2</td><td>0.761857</td><td>0.761857</td></tr><tr><td>2704302</td><td>&quot;AL&quot;</td><td>96183</td><td>249907</td><td>11.474018</td><td>12.428848</td><td>0.384875</td><td>0.923176</td><td>1</td><td>0.384875</td><td>0.384875</td></tr><tr><td>2700300</td><td>&quot;AL&quot;</td><td>53365</td><td>249907</td><td>10.884929</td><td>12.428848</td><td>0.213539</td><td>0.875779</td><td>2</td><td>0.598415</td><td>0.598415</td></tr><tr><td>2706307</td><td>&quot;AL&quot;</td><td>14312</td><td>249907</td><td>9.568923</td><td>12.428848</td><td>0.057269</td><td>0.769896</td><td>3</td><td>0.655684</td><td>0.655684</td></tr><tr><td>2708006</td><td>&quot;AL&quot;</td><td>6694</td><td>249907</td><td>8.809116</td><td>12.428848</td><td>0.026786</td><td>0.708764</td><td>4</td><td>0.68247</td><td>0.68247</td></tr><tr><td>2709301</td><td>&quot;AL&quot;</td><td>6313</td><td>249907</td><td>8.750525</td><td>12.428848</td><td>0.025261</td><td>0.70405</td><td>5</td><td>0.707731</td><td>0.707731</td></tr><tr><td>1302603</td><td>&quot;AM&quot;</td><td>100872</td><td>160360</td><td>11.521618</td><td>11.985183</td><td>0.629035</td><td>0.961322</td><td>1</td><td>0.629035</td><td>0.629035</td></tr><tr><td>1304203</td><td>&quot;AM&quot;</td><td>6104</td><td>160360</td><td>8.716863</td><td>11.985183</td><td>0.038064</td><td>0.727303</td><td>2</td><td>0.667099</td><td>0.667099</td></tr><tr><td>1303809</td><td>&quot;AM&quot;</td><td>4658</td><td>160360</td><td>8.446556</td><td>11.985183</td><td>0.029047</td><td>0.70475</td><td>3</td><td>0.696146</td><td>0.696146</td></tr><tr><td>1304062</td><td>&quot;AM&quot;</td><td>3850</td><td>160360</td><td>8.256088</td><td>11.985183</td><td>0.024008</td><td>0.688858</td><td>4</td><td>0.720155</td><td>0.720155</td></tr><tr><td>1600303</td><td>&quot;AP&quot;</td><td>15959</td><td>33111</td><td>9.677841</td><td>10.407651</td><td>0.481985</td><td>0.929878</td><td>1</td><td>0.481985</td><td>0.481985</td></tr><tr><td>1600501</td><td>&quot;AP&quot;</td><td>4458</td><td>33111</td><td>8.40268</td><td>10.407651</td><td>0.134638</td><td>0.807356</td><td>2</td><td>0.616623</td><td>0.616623</td></tr><tr><td>1600600</td><td>&quot;AP&quot;</td><td>3135</td><td>33111</td><td>8.050703</td><td>10.407651</td><td>0.094682</td><td>0.773537</td><td>3</td><td>0.711304</td><td>0.711304</td></tr><tr><td>2927408</td><td>&quot;BA&quot;</td><td>86207</td><td>870401</td><td>11.364518</td><td>13.67671</td><td>0.099043</td><td>0.830939</td><td>1</td><td>0.099043</td><td>0.099043</td></tr><tr><td>&hellip;</td><td>&hellip;</td><td>&hellip;</td><td>&hellip;</td><td>&hellip;</td><td>&hellip;</td><td>&hellip;</td><td>&hellip;</td><td>&hellip;</td><td>&hellip;</td><td>&hellip;</td></tr><tr><td>3518404</td><td>&quot;SP&quot;</td><td>19081</td><td>6336613</td><td>9.856501</td><td>15.661855</td><td>0.003011</td><td>0.629332</td><td>62</td><td>0.687493</td><td>0.687493</td></tr><tr><td>3501905</td><td>&quot;SP&quot;</td><td>18927</td><td>6336613</td><td>9.848398</td><td>15.661855</td><td>0.002987</td><td>0.628814</td><td>63</td><td>0.69048</td><td>0.69048</td></tr><tr><td>3555406</td><td>&quot;SP&quot;</td><td>18818</td><td>6336613</td><td>9.842622</td><td>15.661855</td><td>0.00297</td><td>0.628445</td><td>64</td><td>0.69345</td><td>0.69345</td></tr><tr><td>3506102</td><td>&quot;SP&quot;</td><td>18771</td><td>6336613</td><td>9.840122</td><td>15.661855</td><td>0.002962</td><td>0.628286</td><td>65</td><td>0.696412</td><td>0.696412</td></tr><tr><td>3524303</td><td>&quot;SP&quot;</td><td>18529</td><td>6336613</td><td>9.827146</td><td>15.661855</td><td>0.002924</td><td>0.627457</td><td>66</td><td>0.699336</td><td>0.699336</td></tr><tr><td>3524709</td><td>&quot;SP&quot;</td><td>18372</td><td>6336613</td><td>9.818637</td><td>15.661855</td><td>0.002899</td><td>0.626914</td><td>67</td><td>0.702235</td><td>0.702235</td></tr><tr><td>1721000</td><td>&quot;TO&quot;</td><td>51706</td><td>126949</td><td>10.853348</td><td>11.751549</td><td>0.407297</td><td>0.923568</td><td>1</td><td>0.407297</td><td>0.407297</td></tr><tr><td>1702109</td><td>&quot;TO&quot;</td><td>14370</td><td>126949</td><td>9.572968</td><td>11.751549</td><td>0.113195</td><td>0.814613</td><td>2</td><td>0.520492</td><td>0.520492</td></tr><tr><td>1718204</td><td>&quot;TO&quot;</td><td>5152</td><td>126949</td><td>8.547334</td><td>11.751549</td><td>0.040583</td><td>0.727337</td><td>3</td><td>0.561076</td><td>0.561076</td></tr><tr><td>1716109</td><td>&quot;TO&quot;</td><td>4995</td><td>126949</td><td>8.516393</td><td>11.751549</td><td>0.039347</td><td>0.724704</td><td>4</td><td>0.600422</td><td>0.600422</td></tr><tr><td>1709500</td><td>&quot;TO&quot;</td><td>4238</td><td>126949</td><td>8.352083</td><td>11.751549</td><td>0.033383</td><td>0.710722</td><td>5</td><td>0.633806</td><td>0.633806</td></tr><tr><td>1707009</td><td>&quot;TO&quot;</td><td>2675</td><td>126949</td><td>7.892078</td><td>11.751549</td><td>0.021071</td><td>0.671578</td><td>6</td><td>0.654877</td><td>0.654877</td></tr><tr><td>1705508</td><td>&quot;TO&quot;</td><td>2403</td><td>126949</td><td>7.784889</td><td>11.751549</td><td>0.018929</td><td>0.662456</td><td>7</td><td>0.673806</td><td>0.673806</td></tr><tr><td>1702000</td><td>&quot;TO&quot;</td><td>2207</td><td>126949</td><td>7.699842</td><td>11.751549</td><td>0.017385</td><td>0.655219</td><td>8</td><td>0.691191</td><td>0.691191</td></tr><tr><td>1721208</td><td>&quot;TO&quot;</td><td>2200</td><td>126949</td><td>7.696667</td><td>11.751549</td><td>0.01733</td><td>0.654949</td><td>9</td><td>0.708521</td><td>0.708521</td></tr></tbody></table></div>"
      ],
      "text/plain": [
       "shape: (577, 11)\n",
       "┌─────────┬─────┬────────┬──────────┬───┬───────────────┬───────────────┬───────────────┬──────────┐\n",
       "│ geocode ┆ uf  ┆ casos  ┆ casos_uf ┆ … ┆ log_casos_per ┆ rank_within_u ┆ cumulative_sh ┆ cum_sum  │\n",
       "│ ---     ┆ --- ┆ ---    ┆ ---      ┆   ┆ cent_uf       ┆ f             ┆ are           ┆ ---      │\n",
       "│ i64     ┆ str ┆ i64    ┆ i64      ┆   ┆ ---           ┆ ---           ┆ ---           ┆ f64      │\n",
       "│         ┆     ┆        ┆          ┆   ┆ f64           ┆ u32           ┆ f64           ┆          │\n",
       "╞═════════╪═════╪════════╪══════════╪═══╪═══════════════╪═══════════════╪═══════════════╪══════════╡\n",
       "│ 1200401 ┆ AC  ┆ 77649  ┆ 166131   ┆ … ┆ 0.936727      ┆ 1             ┆ 0.467396      ┆ 0.467396 │\n",
       "│ 1200203 ┆ AC  ┆ 48919  ┆ 166131   ┆ … ┆ 0.898291      ┆ 2             ┆ 0.761857      ┆ 0.761857 │\n",
       "│ 2704302 ┆ AL  ┆ 96183  ┆ 249907   ┆ … ┆ 0.923176      ┆ 1             ┆ 0.384875      ┆ 0.384875 │\n",
       "│ 2700300 ┆ AL  ┆ 53365  ┆ 249907   ┆ … ┆ 0.875779      ┆ 2             ┆ 0.598415      ┆ 0.598415 │\n",
       "│ 2706307 ┆ AL  ┆ 14312  ┆ 249907   ┆ … ┆ 0.769896      ┆ 3             ┆ 0.655684      ┆ 0.655684 │\n",
       "│ 2708006 ┆ AL  ┆ 6694   ┆ 249907   ┆ … ┆ 0.708764      ┆ 4             ┆ 0.68247       ┆ 0.68247  │\n",
       "│ 2709301 ┆ AL  ┆ 6313   ┆ 249907   ┆ … ┆ 0.70405       ┆ 5             ┆ 0.707731      ┆ 0.707731 │\n",
       "│ 1302603 ┆ AM  ┆ 100872 ┆ 160360   ┆ … ┆ 0.961322      ┆ 1             ┆ 0.629035      ┆ 0.629035 │\n",
       "│ 1304203 ┆ AM  ┆ 6104   ┆ 160360   ┆ … ┆ 0.727303      ┆ 2             ┆ 0.667099      ┆ 0.667099 │\n",
       "│ 1303809 ┆ AM  ┆ 4658   ┆ 160360   ┆ … ┆ 0.70475       ┆ 3             ┆ 0.696146      ┆ 0.696146 │\n",
       "│ 1304062 ┆ AM  ┆ 3850   ┆ 160360   ┆ … ┆ 0.688858      ┆ 4             ┆ 0.720155      ┆ 0.720155 │\n",
       "│ 1600303 ┆ AP  ┆ 15959  ┆ 33111    ┆ … ┆ 0.929878      ┆ 1             ┆ 0.481985      ┆ 0.481985 │\n",
       "│ 1600501 ┆ AP  ┆ 4458   ┆ 33111    ┆ … ┆ 0.807356      ┆ 2             ┆ 0.616623      ┆ 0.616623 │\n",
       "│ 1600600 ┆ AP  ┆ 3135   ┆ 33111    ┆ … ┆ 0.773537      ┆ 3             ┆ 0.711304      ┆ 0.711304 │\n",
       "│ 2927408 ┆ BA  ┆ 86207  ┆ 870401   ┆ … ┆ 0.830939      ┆ 1             ┆ 0.099043      ┆ 0.099043 │\n",
       "│ …       ┆ …   ┆ …      ┆ …        ┆ … ┆ …             ┆ …             ┆ …             ┆ …        │\n",
       "│ 3518404 ┆ SP  ┆ 19081  ┆ 6336613  ┆ … ┆ 0.629332      ┆ 62            ┆ 0.687493      ┆ 0.687493 │\n",
       "│ 3501905 ┆ SP  ┆ 18927  ┆ 6336613  ┆ … ┆ 0.628814      ┆ 63            ┆ 0.69048       ┆ 0.69048  │\n",
       "│ 3555406 ┆ SP  ┆ 18818  ┆ 6336613  ┆ … ┆ 0.628445      ┆ 64            ┆ 0.69345       ┆ 0.69345  │\n",
       "│ 3506102 ┆ SP  ┆ 18771  ┆ 6336613  ┆ … ┆ 0.628286      ┆ 65            ┆ 0.696412      ┆ 0.696412 │\n",
       "│ 3524303 ┆ SP  ┆ 18529  ┆ 6336613  ┆ … ┆ 0.627457      ┆ 66            ┆ 0.699336      ┆ 0.699336 │\n",
       "│ 3524709 ┆ SP  ┆ 18372  ┆ 6336613  ┆ … ┆ 0.626914      ┆ 67            ┆ 0.702235      ┆ 0.702235 │\n",
       "│ 1721000 ┆ TO  ┆ 51706  ┆ 126949   ┆ … ┆ 0.923568      ┆ 1             ┆ 0.407297      ┆ 0.407297 │\n",
       "│ 1702109 ┆ TO  ┆ 14370  ┆ 126949   ┆ … ┆ 0.814613      ┆ 2             ┆ 0.520492      ┆ 0.520492 │\n",
       "│ 1718204 ┆ TO  ┆ 5152   ┆ 126949   ┆ … ┆ 0.727337      ┆ 3             ┆ 0.561076      ┆ 0.561076 │\n",
       "│ 1716109 ┆ TO  ┆ 4995   ┆ 126949   ┆ … ┆ 0.724704      ┆ 4             ┆ 0.600422      ┆ 0.600422 │\n",
       "│ 1709500 ┆ TO  ┆ 4238   ┆ 126949   ┆ … ┆ 0.710722      ┆ 5             ┆ 0.633806      ┆ 0.633806 │\n",
       "│ 1707009 ┆ TO  ┆ 2675   ┆ 126949   ┆ … ┆ 0.671578      ┆ 6             ┆ 0.654877      ┆ 0.654877 │\n",
       "│ 1705508 ┆ TO  ┆ 2403   ┆ 126949   ┆ … ┆ 0.662456      ┆ 7             ┆ 0.673806      ┆ 0.673806 │\n",
       "│ 1702000 ┆ TO  ┆ 2207   ┆ 126949   ┆ … ┆ 0.655219      ┆ 8             ┆ 0.691191      ┆ 0.691191 │\n",
       "│ 1721208 ┆ TO  ┆ 2200   ┆ 126949   ┆ … ┆ 0.654949      ┆ 9             ┆ 0.708521      ┆ 0.708521 │\n",
       "└─────────┴─────┴────────┴──────────┴───┴───────────────┴───────────────┴───────────────┴──────────┘"
      ]
     },
     "execution_count": 128,
     "metadata": {},
     "output_type": "execute_result"
    }
   ],
   "source": [
    "pareto.group_by('uf').agg(pl.col('casos_percent_uf').sum(),pl.len()).sort(by='len')"
   ]
  },
  {
   "cell_type": "code",
   "execution_count": 137,
   "id": "30c4bdc4-e390-4e16-93c3-8c3ab8b41913",
   "metadata": {},
   "outputs": [],
   "source": [
    "top_municipality = gdf.filter(pl.col('rank_within_uf')==1)"
   ]
  },
  {
   "cell_type": "code",
   "execution_count": 139,
   "id": "a5f65a16-a8ab-4e5d-a90c-dfe79d96cfd0",
   "metadata": {},
   "outputs": [],
   "source": [
    "top_municipality.write_parquet(\"../data/top_municipalities.parquet\")"
   ]
  },
  {
   "cell_type": "code",
   "execution_count": null,
   "id": "d11fa13c-7e57-4337-bd63-04a3e08a8ca6",
   "metadata": {},
   "outputs": [],
   "source": []
  }
 ],
 "metadata": {
  "kernelspec": {
   "display_name": "sprint2025",
   "language": "python",
   "name": "sprint2025"
  },
  "language_info": {
   "codemirror_mode": {
    "name": "ipython",
    "version": 3
   },
   "file_extension": ".py",
   "mimetype": "text/x-python",
   "name": "python",
   "nbconvert_exporter": "python",
   "pygments_lexer": "ipython3",
   "version": "3.11.11"
  }
 },
 "nbformat": 4,
 "nbformat_minor": 5
}
