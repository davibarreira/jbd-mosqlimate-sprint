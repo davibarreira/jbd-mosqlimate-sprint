{
 "cells": [
  {
   "cell_type": "markdown",
   "id": "8971f979-8b92-401c-bd90-224d97fc668b",
   "metadata": {},
   "source": [
    "## Post-Processing\n",
    "\n",
    "After training and forecasting, we need to do a post-processing in order to guarantee that our output forecast makes sense.\n",
    "For example, our forecast must never go below zero, as our target is number of dengue cases, which is either zero or larger.\n",
    "Another point is that our quantiles must be monotonic, i.e. if qunatile `0.5` forecasts a value of `20`, then quantile `0.6` must forecast\n",
    "a value larger than `20`."
   ]
  },
  {
   "cell_type": "code",
   "execution_count": 6,
   "id": "ae0f5514-285d-460b-8c49-3dc1e600ba35",
   "metadata": {},
   "outputs": [],
   "source": [
    "import polars as pl\n",
    "import numpy as np"
   ]
  },
  {
   "cell_type": "markdown",
   "id": "7170560a-a66b-49e4-9fbf-f12d7a3b90dd",
   "metadata": {},
   "source": [
    "### Getting the intervals required by the sprint"
   ]
  },
  {
   "cell_type": "code",
   "execution_count": 26,
   "id": "e7484e87-2a6c-4ea1-b084-76879dca6df4",
   "metadata": {},
   "outputs": [],
   "source": [
    "intervals = [0.5,0.8,0.9,0.95]\n",
    "\n",
    "quantiles = [[np.round(0.5 - i/2,decimals=3), np.round(0.5 + i/2,decimals=3)]for i in intervals]\n",
    "\n",
    "def estimate_quantile(predictions,target_quantile):\n",
    "    \"\"\"\n",
    "    Estimate the value of a given quantile based on the predictions.\n",
    "\n",
    "    Parameters:\n",
    "    predictions (DataFrame): A DataFrame containing quantile predictions.\n",
    "                                     Columns should represent quantile levels (e.g., '0.1', '0.2', ..., '0.9').\n",
    "    target_quantile (float): The quantile level to estimate (e.g., 0.25, 0.75).\n",
    "\n",
    "    Returns:\n",
    "    float: The estimated value for the target quantile, interpolated if necessary.\n",
    "\n",
    "    \"\"\"\n",
    "    quantile_values = np.arange(0.1,1.0, 0.1)\n",
    "    if target_quantile in quantile_values:\n",
    "        return predictions[str(target_quantile)]\n",
    "    if target_quantile < 0.1:\n",
    "        return predictions['0.1'] - (0.1 - target_quantile)*(predictions['0.2'] - predictions['0.1'])/0.1\n",
    "    if target_quantile > 0.9:\n",
    "        return predictions['0.9'] + (target_quantile - 0.9)*(predictions['0.9'] - predictions['0.8'])/0.1\n",
    "\n",
    "    lower_bound = np.round(max(q for q in quantile_values if q < target_quantile),decimals=2)\n",
    "    upper_bound = np.round(min(q for q in quantile_values if q > target_quantile),decimals=2)\n",
    "    lower_values = predictions[str(lower_bound)]\n",
    "    upper_values = predictions[str(upper_bound)]\n",
    "    slope = (upper_values - lower_values) / (upper_bound - lower_bound)\n",
    "    return lower_values + slope * (target_quantile - lower_bound)\n",
    "\n"
   ]
  },
  {
   "cell_type": "markdown",
   "id": "3d4db745-e433-4d90-8cd4-fdda46dc18d3",
   "metadata": {},
   "source": [
    "Importing our predictions. "
   ]
  },
  {
   "cell_type": "code",
   "execution_count": 27,
   "id": "3a33b4a8-c3fd-4df9-98c1-c926213106f2",
   "metadata": {},
   "outputs": [],
   "source": [
    "# import predictions\n",
    "predictions = pl.read_parquet('../predictions/autogluon_baseline.parquet')"
   ]
  },
  {
   "cell_type": "markdown",
   "id": "9040b139-f63c-4641-a31e-d4778d2ef9f0",
   "metadata": {},
   "source": [
    "## Checking Monotone Condition\n",
    "\n",
    "Note that the quantile values must be monotone, i.e. if quantile `0.5` forecasts a value of `20`, then quantile `0.6` must forecast\n",
    "a value larger.  Depending on how the quantiles are estimated, a forecasting model might give\n",
    "inconsistent predictions. The following function checks for monotonicity."
   ]
  },
  {
   "cell_type": "code",
   "execution_count": 45,
   "id": "d4f58faa-811d-495a-925e-906a8d33f117",
   "metadata": {},
   "outputs": [],
   "source": [
    "def check_monotonicity(row, qs):\n",
    "    vals = [row[q] for q in qs]\n",
    "    return np.all(np.diff(vals) >= 0)"
   ]
  },
  {
   "cell_type": "code",
   "execution_count": 47,
   "id": "aa7aa90c-774e-4318-b896-d310e91abd22",
   "metadata": {},
   "outputs": [],
   "source": [
    "qs = [str(i) for i in np.sort([float(i) for i in predictions.columns[1:10]])]\n",
    "predictions = predictions.with_columns(\n",
    "    pl.struct(predictions.columns)\n",
    "        .map_elements(lambda row: check_monotonicity(row,qs),return_dtype=bool).alias('mono')\n",
    ")"
   ]
  },
  {
   "cell_type": "markdown",
   "id": "b4f437a0-d2a9-4867-8255-5baa11a4181c",
   "metadata": {},
   "source": [
    "Autogluon computes quantiles 0.1,0.2,...,0.9, so we need to convert them to the intervals required by the sprint.\n",
    "We use simple linear interpolation/extrapolation."
   ]
  },
  {
   "cell_type": "code",
   "execution_count": 15,
   "id": "18d0b9bc-7a63-4280-8d11-fff2b62ab088",
   "metadata": {},
   "outputs": [],
   "source": [
    "for q in np.hstack(quantiles):\n",
    "    predictions = predictions.with_columns(\n",
    "        pl.struct(predictions.columns).map_elements(lambda row: estimate_quantile(row, target_quantile=q),return_dtype=float).alias(str(q))\n",
    "    )\n"
   ]
  },
  {
   "cell_type": "code",
   "execution_count": 23,
   "id": "4f6a0bbb-dc88-4a05-a7a8-2c03427e7d4d",
   "metadata": {},
   "outputs": [
    {
     "data": {
      "text/html": [
       "\n",
       "            <div id=\"dNfsCe\"></div>\n",
       "            <script type=\"text/javascript\" data-lets-plot-script=\"library\">\n",
       "                if(!window.letsPlotCallQueue) {\n",
       "                    window.letsPlotCallQueue = [];\n",
       "                }; \n",
       "                window.letsPlotCall = function(f) {\n",
       "                    window.letsPlotCallQueue.push(f);\n",
       "                };\n",
       "                (function() {\n",
       "                    var script = document.createElement(\"script\");\n",
       "                    script.type = \"text/javascript\";\n",
       "                    script.src = \"https://cdn.jsdelivr.net/gh/JetBrains/lets-plot@v4.6.2/js-package/distr/lets-plot.min.js\";\n",
       "                    script.onload = function() {\n",
       "                        window.letsPlotCall = function(f) {f();};\n",
       "                        window.letsPlotCallQueue.forEach(function(f) {f();});\n",
       "                        window.letsPlotCallQueue = [];\n",
       "                        \n",
       "                    };\n",
       "                    script.onerror = function(event) {\n",
       "                        window.letsPlotCall = function(f) {};    // noop\n",
       "                        window.letsPlotCallQueue = [];\n",
       "                        var div = document.createElement(\"div\");\n",
       "                        div.style.color = 'darkred';\n",
       "                        div.textContent = 'Error loading Lets-Plot JS';\n",
       "                        document.getElementById(\"dNfsCe\").appendChild(div);\n",
       "                    };\n",
       "                    var e = document.getElementById(\"dNfsCe\");\n",
       "                    e.appendChild(script);\n",
       "                })()\n",
       "            </script>\n",
       "            "
      ]
     },
     "metadata": {},
     "output_type": "display_data"
    },
    {
     "data": {
      "text/html": [
       "<div><style>\n",
       ".dataframe > thead > tr,\n",
       ".dataframe > tbody > tr {\n",
       "  text-align: right;\n",
       "  white-space: pre-wrap;\n",
       "}\n",
       "</style>\n",
       "<small>shape: (1_836, 18)</small><table border=\"1\" class=\"dataframe\"><thead><tr><th>mean</th><th>0.1</th><th>0.2</th><th>0.3</th><th>0.4</th><th>0.5</th><th>0.6</th><th>0.7</th><th>0.8</th><th>0.9</th><th>item_id</th><th>timestamp</th><th>0.25</th><th>0.75</th><th>0.05</th><th>0.95</th><th>0.025</th><th>0.975</th></tr><tr><td>f32</td><td>f64</td><td>f32</td><td>f32</td><td>f32</td><td>f32</td><td>f32</td><td>f32</td><td>f32</td><td>f64</td><td>str</td><td>datetime[ms]</td><td>f64</td><td>f64</td><td>f64</td><td>f64</td><td>f64</td><td>f64</td></tr></thead><tbody><tr><td>32.646072</td><td>7.961609</td><td>16.673126</td><td>22.931793</td><td>28.160172</td><td>32.646072</td><td>36.753967</td><td>40.973099</td><td>47.054993</td><td>58.878448</td><td>&quot;AC&quot;</td><td>2022-06-26 00:00:00</td><td>19.80246</td><td>44.014046</td><td>3.60585</td><td>64.790176</td><td>1.427971</td><td>67.74604</td></tr><tr><td>31.444885</td><td>5.193573</td><td>14.988251</td><td>21.282852</td><td>26.381317</td><td>31.444885</td><td>35.775024</td><td>40.576355</td><td>45.728439</td><td>58.838364</td><td>&quot;AC&quot;</td><td>2022-07-03 00:00:00</td><td>18.135551</td><td>43.152397</td><td>0.296234</td><td>65.393326</td><td>-2.152435</td><td>68.670807</td></tr><tr><td>29.168777</td><td>1.847595</td><td>11.782578</td><td>18.265533</td><td>24.15863</td><td>29.168777</td><td>34.275879</td><td>38.246994</td><td>44.151917</td><td>59.249039</td><td>&quot;AC&quot;</td><td>2022-07-10 00:00:00</td><td>15.024055</td><td>41.199455</td><td>-3.119896</td><td>66.7976</td><td>-5.603642</td><td>70.57188</td></tr><tr><td>28.488434</td><td>1.608887</td><td>10.647476</td><td>17.528732</td><td>23.252213</td><td>28.488434</td><td>33.140259</td><td>37.307709</td><td>42.672211</td><td>58.658539</td><td>&quot;AC&quot;</td><td>2022-07-17 00:00:00</td><td>14.088104</td><td>39.98996</td><td>-2.910408</td><td>66.651703</td><td>-5.170055</td><td>70.648285</td></tr><tr><td>27.669281</td><td>0.101715</td><td>9.989685</td><td>16.586334</td><td>22.762085</td><td>27.669281</td><td>31.898636</td><td>35.09581</td><td>39.192078</td><td>55.32515</td><td>&quot;AC&quot;</td><td>2022-07-24 00:00:00</td><td>13.28801</td><td>37.143944</td><td>-4.84227</td><td>63.391685</td><td>-7.314262</td><td>67.424953</td></tr><tr><td>&hellip;</td><td>&hellip;</td><td>&hellip;</td><td>&hellip;</td><td>&hellip;</td><td>&hellip;</td><td>&hellip;</td><td>&hellip;</td><td>&hellip;</td><td>&hellip;</td><td>&hellip;</td><td>&hellip;</td><td>&hellip;</td><td>&hellip;</td><td>&hellip;</td><td>&hellip;</td><td>&hellip;</td><td>&hellip;</td></tr><tr><td>27.878174</td><td>-14.829025</td><td>0.875839</td><td>11.13829</td><td>19.444809</td><td>27.878174</td><td>37.506454</td><td>51.958939</td><td>76.895813</td><td>134.651184</td><td>&quot;TO&quot;</td><td>2023-09-10 00:00:00</td><td>6.007065</td><td>64.427376</td><td>-22.681458</td><td>163.52887</td><td>-26.607674</td><td>177.967712</td></tr><tr><td>24.473618</td><td>3.995911</td><td>11.244278</td><td>16.405319</td><td>20.701416</td><td>24.473618</td><td>27.866333</td><td>31.215286</td><td>34.384521</td><td>36.980408</td><td>&quot;TO&quot;</td><td>2023-09-17 00:00:00</td><td>13.824799</td><td>32.799904</td><td>0.371727</td><td>38.278351</td><td>-1.440365</td><td>38.927322</td></tr><tr><td>26.049774</td><td>4.74939</td><td>12.124268</td><td>17.503448</td><td>21.985672</td><td>26.049774</td><td>29.365356</td><td>32.586868</td><td>34.790741</td><td>38.274216</td><td>&quot;TO&quot;</td><td>2023-09-24 00:00:00</td><td>14.813858</td><td>33.688805</td><td>1.061951</td><td>40.015953</td><td>-0.781769</td><td>40.886822</td></tr><tr><td>26.676178</td><td>4.682724</td><td>12.360641</td><td>17.762344</td><td>22.460037</td><td>26.676178</td><td>30.686005</td><td>33.949539</td><td>37.299316</td><td>42.164902</td><td>&quot;TO&quot;</td><td>2023-10-01 00:00:00</td><td>15.061493</td><td>35.624428</td><td>0.843765</td><td>44.597694</td><td>-1.075714</td><td>45.814091</td></tr><tr><td>30.217361</td><td>7.586914</td><td>15.281235</td><td>20.899979</td><td>25.867172</td><td>30.217361</td><td>34.390778</td><td>38.415512</td><td>41.885025</td><td>49.148933</td><td>&quot;TO&quot;</td><td>2023-10-08 00:00:00</td><td>18.090607</td><td>40.150269</td><td>3.739754</td><td>52.780888</td><td>1.816174</td><td>54.596865</td></tr></tbody></table></div>"
      ],
      "text/plain": [
       "shape: (1_836, 18)\n",
       "┌───────────┬───────────┬───────────┬───────────┬───┬───────────┬───────────┬───────────┬──────────┐\n",
       "│ mean      ┆ 0.1       ┆ 0.2       ┆ 0.3       ┆ … ┆ 0.05      ┆ 0.95      ┆ 0.025     ┆ 0.975    │\n",
       "│ ---       ┆ ---       ┆ ---       ┆ ---       ┆   ┆ ---       ┆ ---       ┆ ---       ┆ ---      │\n",
       "│ f32       ┆ f64       ┆ f32       ┆ f32       ┆   ┆ f64       ┆ f64       ┆ f64       ┆ f64      │\n",
       "╞═══════════╪═══════════╪═══════════╪═══════════╪═══╪═══════════╪═══════════╪═══════════╪══════════╡\n",
       "│ 32.646072 ┆ 7.961609  ┆ 16.673126 ┆ 22.931793 ┆ … ┆ 3.60585   ┆ 64.790176 ┆ 1.427971  ┆ 67.74604 │\n",
       "│ 31.444885 ┆ 5.193573  ┆ 14.988251 ┆ 21.282852 ┆ … ┆ 0.296234  ┆ 65.393326 ┆ -2.152435 ┆ 68.67080 │\n",
       "│           ┆           ┆           ┆           ┆   ┆           ┆           ┆           ┆ 7        │\n",
       "│ 29.168777 ┆ 1.847595  ┆ 11.782578 ┆ 18.265533 ┆ … ┆ -3.119896 ┆ 66.7976   ┆ -5.603642 ┆ 70.57188 │\n",
       "│ 28.488434 ┆ 1.608887  ┆ 10.647476 ┆ 17.528732 ┆ … ┆ -2.910408 ┆ 66.651703 ┆ -5.170055 ┆ 70.64828 │\n",
       "│           ┆           ┆           ┆           ┆   ┆           ┆           ┆           ┆ 5        │\n",
       "│ 27.669281 ┆ 0.101715  ┆ 9.989685  ┆ 16.586334 ┆ … ┆ -4.84227  ┆ 63.391685 ┆ -7.314262 ┆ 67.42495 │\n",
       "│           ┆           ┆           ┆           ┆   ┆           ┆           ┆           ┆ 3        │\n",
       "│ …         ┆ …         ┆ …         ┆ …         ┆ … ┆ …         ┆ …         ┆ …         ┆ …        │\n",
       "│ 27.878174 ┆ -14.82902 ┆ 0.875839  ┆ 11.13829  ┆ … ┆ -22.68145 ┆ 163.52887 ┆ -26.60767 ┆ 177.9677 │\n",
       "│           ┆ 5         ┆           ┆           ┆   ┆ 8         ┆           ┆ 4         ┆ 12       │\n",
       "│ 24.473618 ┆ 3.995911  ┆ 11.244278 ┆ 16.405319 ┆ … ┆ 0.371727  ┆ 38.278351 ┆ -1.440365 ┆ 38.92732 │\n",
       "│           ┆           ┆           ┆           ┆   ┆           ┆           ┆           ┆ 2        │\n",
       "│ 26.049774 ┆ 4.74939   ┆ 12.124268 ┆ 17.503448 ┆ … ┆ 1.061951  ┆ 40.015953 ┆ -0.781769 ┆ 40.88682 │\n",
       "│           ┆           ┆           ┆           ┆   ┆           ┆           ┆           ┆ 2        │\n",
       "│ 26.676178 ┆ 4.682724  ┆ 12.360641 ┆ 17.762344 ┆ … ┆ 0.843765  ┆ 44.597694 ┆ -1.075714 ┆ 45.81409 │\n",
       "│           ┆           ┆           ┆           ┆   ┆           ┆           ┆           ┆ 1        │\n",
       "│ 30.217361 ┆ 7.586914  ┆ 15.281235 ┆ 20.899979 ┆ … ┆ 3.739754  ┆ 52.780888 ┆ 1.816174  ┆ 54.59686 │\n",
       "│           ┆           ┆           ┆           ┆   ┆           ┆           ┆           ┆ 5        │\n",
       "└───────────┴───────────┴───────────┴───────────┴───┴───────────┴───────────┴───────────┴──────────┘"
      ]
     },
     "execution_count": 23,
     "metadata": {},
     "output_type": "execute_result"
    }
   ],
   "source": [
    "from lets_plot import *\n",
    "LetsPlot.setup_html()\n",
    "# pred = predictions.drop(['mono','mean'])\n",
    "# i = 4\n",
    "# sample = pl.DataFrame(\n",
    "#     {'q':pred.iloc[i].index.values.astype(float),\n",
    "\n",
    "#     'y':pred.iloc[i].values,}\n",
    "# )\n",
    "\n",
    "# (\n",
    "#     ggplot(data=sample)\n",
    "#     + geom_line(aes(x='q', y='y'), color='blue')\n",
    "#     + geom_point(aes(x='q', y='y'), color='blue')\n",
    "# )\n",
    "# predictions.drop(['mono'])\n",
    "predictions"
   ]
  },
  {
   "cell_type": "code",
   "execution_count": null,
   "id": "a3bcca7f-c168-40e6-972a-8ee9f2d5d840",
   "metadata": {},
   "outputs": [],
   "source": []
  }
 ],
 "metadata": {
  "kernelspec": {
   "display_name": "sprint2025",
   "language": "python",
   "name": "sprint2025"
  },
  "language_info": {
   "codemirror_mode": {
    "name": "ipython",
    "version": 3
   },
   "file_extension": ".py",
   "mimetype": "text/x-python",
   "name": "python",
   "nbconvert_exporter": "python",
   "pygments_lexer": "ipython3",
   "version": "3.11.11"
  }
 },
 "nbformat": 4,
 "nbformat_minor": 5
}
