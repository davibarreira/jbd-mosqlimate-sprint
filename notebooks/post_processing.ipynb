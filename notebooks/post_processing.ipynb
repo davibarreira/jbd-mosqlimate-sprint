{
 "cells": [
  {
   "cell_type": "markdown",
   "id": "8971f979-8b92-401c-bd90-224d97fc668b",
   "metadata": {},
   "source": [
    "## Post-Processing\n",
    "\n",
    "After training and forecasting, we need to do a post-processing in order to guarantee that our output forecast makes sense.\n",
    "For example, our forecast must never go below zero, as our target is number of dengue cases, which is either zero or larger.\n",
    "Another point is that our quantiles must be monotonic, i.e. if qunatile `0.5` forecasts a value of `20`, then quantile `0.6` must forecast\n",
    "a value larger than `20`."
   ]
  },
  {
   "cell_type": "code",
   "execution_count": 83,
   "id": "ae0f5514-285d-460b-8c49-3dc1e600ba35",
   "metadata": {},
   "outputs": [],
   "source": [
    "import polars as pl\n",
    "import numpy as np"
   ]
  },
  {
   "cell_type": "markdown",
   "id": "7170560a-a66b-49e4-9fbf-f12d7a3b90dd",
   "metadata": {},
   "source": [
    "### Getting the intervals required by the sprint"
   ]
  },
  {
   "cell_type": "code",
   "execution_count": 84,
   "id": "e7484e87-2a6c-4ea1-b084-76879dca6df4",
   "metadata": {},
   "outputs": [],
   "source": [
    "intervals = [0.5,0.8,0.9,0.95]\n",
    "\n",
    "quantiles = [[np.round(0.5 - i/2,decimals=3), np.round(0.5 + i/2,decimals=3)]for i in intervals]\n",
    "\n",
    "def estimate_quantile(predictions,target_quantile):\n",
    "    \"\"\"\n",
    "    Estimate the value of a given quantile based on the predictions.\n",
    "\n",
    "    Parameters:\n",
    "    predictions (DataFrame): A DataFrame containing quantile predictions.\n",
    "                                     Columns should represent quantile levels (e.g., '0.1', '0.2', ..., '0.9').\n",
    "    target_quantile (float): The quantile level to estimate (e.g., 0.25, 0.75).\n",
    "\n",
    "    Returns:\n",
    "    float: The estimated value for the target quantile, interpolated if necessary.\n",
    "\n",
    "    \"\"\"\n",
    "    quantile_values = np.arange(0.1,1.0, 0.1)\n",
    "    if target_quantile in quantile_values:\n",
    "        return predictions[str(target_quantile)]\n",
    "    if target_quantile < 0.1:\n",
    "        return predictions['0.1'] - (0.1 - target_quantile)*(predictions['0.2'] - predictions['0.1'])/0.1\n",
    "    if target_quantile > 0.9:\n",
    "        return predictions['0.9'] + (target_quantile - 0.9)*(predictions['0.9'] - predictions['0.8'])/0.1\n",
    "\n",
    "    lower_bound = np.round(max(q for q in quantile_values if q < target_quantile),decimals=2)\n",
    "    upper_bound = np.round(min(q for q in quantile_values if q > target_quantile),decimals=2)\n",
    "    lower_values = predictions[str(lower_bound)]\n",
    "    upper_values = predictions[str(upper_bound)]\n",
    "    slope = (upper_values - lower_values) / (upper_bound - lower_bound)\n",
    "    return lower_values + slope * (target_quantile - lower_bound)\n",
    "\n"
   ]
  },
  {
   "cell_type": "markdown",
   "id": "3d4db745-e433-4d90-8cd4-fdda46dc18d3",
   "metadata": {},
   "source": [
    "Importing our predictions. "
   ]
  },
  {
   "cell_type": "code",
   "execution_count": 85,
   "id": "3a33b4a8-c3fd-4df9-98c1-c926213106f2",
   "metadata": {},
   "outputs": [],
   "source": [
    "# import predictions\n",
    "predictions = pl.read_parquet('../predictions/autogluon_baseline.parquet')"
   ]
  },
  {
   "cell_type": "markdown",
   "id": "9040b139-f63c-4641-a31e-d4778d2ef9f0",
   "metadata": {},
   "source": [
    "## Checking Monotone Condition\n",
    "\n",
    "Note that the quantile values must be monotone, i.e. if quantile `0.5` forecasts a value of `20`, then quantile `0.6` must forecast\n",
    "a value larger.  Depending on how the quantiles are estimated, a forecasting model might give\n",
    "inconsistent predictions. The following function checks for monotonicity."
   ]
  },
  {
   "cell_type": "code",
   "execution_count": 86,
   "id": "d4f58faa-811d-495a-925e-906a8d33f117",
   "metadata": {},
   "outputs": [],
   "source": [
    "def check_monotonicity(row, qs):\n",
    "    vals = [row[q] for q in qs]\n",
    "    return np.all(np.diff(vals) >= 0)"
   ]
  },
  {
   "cell_type": "code",
   "execution_count": 87,
   "id": "aa7aa90c-774e-4318-b896-d310e91abd22",
   "metadata": {},
   "outputs": [],
   "source": [
    "qs = [str(i) for i in np.sort([float(i) for i in predictions.columns[1:10]])]\n",
    "predictions = predictions.with_columns(\n",
    "    pl.struct(predictions.columns)\n",
    "        .map_elements(lambda row: check_monotonicity(row,qs),return_dtype=bool).alias('mono')\n",
    ")"
   ]
  },
  {
   "cell_type": "markdown",
   "id": "6e0e79db-c29c-4e57-aa69-1286da06439a",
   "metadata": {},
   "source": [
    "Let us check if there are non monotonic cases. "
   ]
  },
  {
   "cell_type": "code",
   "execution_count": 88,
   "id": "a38702cc-81d5-47a1-8ed4-20284636d2c0",
   "metadata": {},
   "outputs": [
    {
     "data": {
      "text/html": [
       "<div><style>\n",
       ".dataframe > thead > tr,\n",
       ".dataframe > tbody > tr {\n",
       "  text-align: right;\n",
       "  white-space: pre-wrap;\n",
       "}\n",
       "</style>\n",
       "<small>shape: (35, 13)</small><table border=\"1\" class=\"dataframe\"><thead><tr><th>mean</th><th>0.1</th><th>0.2</th><th>0.3</th><th>0.4</th><th>0.5</th><th>0.6</th><th>0.7</th><th>0.8</th><th>0.9</th><th>item_id</th><th>timestamp</th><th>mono</th></tr><tr><td>f32</td><td>f32</td><td>f32</td><td>f32</td><td>f32</td><td>f32</td><td>f32</td><td>f32</td><td>f32</td><td>f32</td><td>str</td><td>datetime[ms]</td><td>bool</td></tr></thead><tbody><tr><td>-32.769592</td><td>-69.29425</td><td>-42.997375</td><td>-35.186707</td><td>-33.124023</td><td>-32.769592</td><td>-35.926514</td><td>-41.837769</td><td>-50.733459</td><td>-58.776917</td><td>&quot;ES&quot;</td><td>2023-09-17 00:00:00</td><td>false</td></tr><tr><td>-16.645691</td><td>-61.632385</td><td>-28.760376</td><td>-20.447327</td><td>-18.525391</td><td>-16.645691</td><td>-18.636841</td><td>-24.714905</td><td>-31.975647</td><td>-22.383911</td><td>&quot;ES&quot;</td><td>2023-09-24 00:00:00</td><td>false</td></tr><tr><td>356.431641</td><td>183.191406</td><td>283.436768</td><td>338.314453</td><td>340.759766</td><td>356.431641</td><td>355.583008</td><td>377.563477</td><td>512.13208</td><td>1317.305298</td><td>&quot;MG&quot;</td><td>2023-07-02 00:00:00</td><td>false</td></tr><tr><td>344.495361</td><td>143.489258</td><td>262.353271</td><td>328.012695</td><td>340.793457</td><td>344.495361</td><td>328.40918</td><td>314.793457</td><td>399.235107</td><td>1066.433105</td><td>&quot;MG&quot;</td><td>2023-07-09 00:00:00</td><td>false</td></tr><tr><td>200.110596</td><td>-10.65332</td><td>124.420654</td><td>201.552979</td><td>209.347168</td><td>200.110596</td><td>177.342041</td><td>142.052734</td><td>208.162354</td><td>901.991455</td><td>&quot;MG&quot;</td><td>2023-07-16 00:00:00</td><td>false</td></tr><tr><td>&hellip;</td><td>&hellip;</td><td>&hellip;</td><td>&hellip;</td><td>&hellip;</td><td>&hellip;</td><td>&hellip;</td><td>&hellip;</td><td>&hellip;</td><td>&hellip;</td><td>&hellip;</td><td>&hellip;</td><td>&hellip;</td></tr><tr><td>-349.505615</td><td>-498.082581</td><td>-398.725708</td><td>-372.924072</td><td>-377.567078</td><td>-349.505615</td><td>-267.616943</td><td>-147.181427</td><td>138.80719</td><td>843.253174</td><td>&quot;SC&quot;</td><td>2022-08-28 00:00:00</td><td>false</td></tr><tr><td>-276.413422</td><td>-453.482666</td><td>-324.03949</td><td>-290.936462</td><td>-307.608612</td><td>-276.413422</td><td>-199.183502</td><td>-48.1772</td><td>243.201797</td><td>975.922302</td><td>&quot;SC&quot;</td><td>2022-09-04 00:00:00</td><td>false</td></tr><tr><td>216.537109</td><td>-447.092773</td><td>-164.146973</td><td>29.614258</td><td>150.112305</td><td>216.537109</td><td>247.182129</td><td>234.11377</td><td>318.377441</td><td>937.294678</td><td>&quot;SP&quot;</td><td>2023-08-13 00:00:00</td><td>false</td></tr><tr><td>178.131836</td><td>-460.749512</td><td>-175.565918</td><td>-5.862793</td><td>114.979492</td><td>178.131836</td><td>179.61377</td><td>162.405762</td><td>220.858398</td><td>829.817871</td><td>&quot;SP&quot;</td><td>2023-08-20 00:00:00</td><td>false</td></tr><tr><td>263.865723</td><td>-365.839355</td><td>-91.384766</td><td>81.645996</td><td>208.720703</td><td>263.865723</td><td>281.125</td><td>275.975098</td><td>376.637695</td><td>973.723633</td><td>&quot;SP&quot;</td><td>2023-08-27 00:00:00</td><td>false</td></tr></tbody></table></div>"
      ],
      "text/plain": [
       "shape: (35, 13)\n",
       "┌────────────┬────────────┬────────────┬────────────┬───┬────────────┬─────────┬───────────┬───────┐\n",
       "│ mean       ┆ 0.1        ┆ 0.2        ┆ 0.3        ┆ … ┆ 0.9        ┆ item_id ┆ timestamp ┆ mono  │\n",
       "│ ---        ┆ ---        ┆ ---        ┆ ---        ┆   ┆ ---        ┆ ---     ┆ ---       ┆ ---   │\n",
       "│ f32        ┆ f32        ┆ f32        ┆ f32        ┆   ┆ f32        ┆ str     ┆ datetime[ ┆ bool  │\n",
       "│            ┆            ┆            ┆            ┆   ┆            ┆         ┆ ms]       ┆       │\n",
       "╞════════════╪════════════╪════════════╪════════════╪═══╪════════════╪═════════╪═══════════╪═══════╡\n",
       "│ -32.769592 ┆ -69.29425  ┆ -42.997375 ┆ -35.186707 ┆ … ┆ -58.776917 ┆ ES      ┆ 2023-09-1 ┆ false │\n",
       "│            ┆            ┆            ┆            ┆   ┆            ┆         ┆ 7         ┆       │\n",
       "│            ┆            ┆            ┆            ┆   ┆            ┆         ┆ 00:00:00  ┆       │\n",
       "│ -16.645691 ┆ -61.632385 ┆ -28.760376 ┆ -20.447327 ┆ … ┆ -22.383911 ┆ ES      ┆ 2023-09-2 ┆ false │\n",
       "│            ┆            ┆            ┆            ┆   ┆            ┆         ┆ 4         ┆       │\n",
       "│            ┆            ┆            ┆            ┆   ┆            ┆         ┆ 00:00:00  ┆       │\n",
       "│ 356.431641 ┆ 183.191406 ┆ 283.436768 ┆ 338.314453 ┆ … ┆ 1317.30529 ┆ MG      ┆ 2023-07-0 ┆ false │\n",
       "│            ┆            ┆            ┆            ┆   ┆ 8          ┆         ┆ 2         ┆       │\n",
       "│            ┆            ┆            ┆            ┆   ┆            ┆         ┆ 00:00:00  ┆       │\n",
       "│ 344.495361 ┆ 143.489258 ┆ 262.353271 ┆ 328.012695 ┆ … ┆ 1066.43310 ┆ MG      ┆ 2023-07-0 ┆ false │\n",
       "│            ┆            ┆            ┆            ┆   ┆ 5          ┆         ┆ 9         ┆       │\n",
       "│            ┆            ┆            ┆            ┆   ┆            ┆         ┆ 00:00:00  ┆       │\n",
       "│ 200.110596 ┆ -10.65332  ┆ 124.420654 ┆ 201.552979 ┆ … ┆ 901.991455 ┆ MG      ┆ 2023-07-1 ┆ false │\n",
       "│            ┆            ┆            ┆            ┆   ┆            ┆         ┆ 6         ┆       │\n",
       "│            ┆            ┆            ┆            ┆   ┆            ┆         ┆ 00:00:00  ┆       │\n",
       "│ …          ┆ …          ┆ …          ┆ …          ┆ … ┆ …          ┆ …       ┆ …         ┆ …     │\n",
       "│ -349.50561 ┆ -498.08258 ┆ -398.72570 ┆ -372.92407 ┆ … ┆ 843.253174 ┆ SC      ┆ 2022-08-2 ┆ false │\n",
       "│ 5          ┆ 1          ┆ 8          ┆ 2          ┆   ┆            ┆         ┆ 8         ┆       │\n",
       "│            ┆            ┆            ┆            ┆   ┆            ┆         ┆ 00:00:00  ┆       │\n",
       "│ -276.41342 ┆ -453.48266 ┆ -324.03949 ┆ -290.93646 ┆ … ┆ 975.922302 ┆ SC      ┆ 2022-09-0 ┆ false │\n",
       "│ 2          ┆ 6          ┆            ┆ 2          ┆   ┆            ┆         ┆ 4         ┆       │\n",
       "│            ┆            ┆            ┆            ┆   ┆            ┆         ┆ 00:00:00  ┆       │\n",
       "│ 216.537109 ┆ -447.09277 ┆ -164.14697 ┆ 29.614258  ┆ … ┆ 937.294678 ┆ SP      ┆ 2023-08-1 ┆ false │\n",
       "│            ┆ 3          ┆ 3          ┆            ┆   ┆            ┆         ┆ 3         ┆       │\n",
       "│            ┆            ┆            ┆            ┆   ┆            ┆         ┆ 00:00:00  ┆       │\n",
       "│ 178.131836 ┆ -460.74951 ┆ -175.56591 ┆ -5.862793  ┆ … ┆ 829.817871 ┆ SP      ┆ 2023-08-2 ┆ false │\n",
       "│            ┆ 2          ┆ 8          ┆            ┆   ┆            ┆         ┆ 0         ┆       │\n",
       "│            ┆            ┆            ┆            ┆   ┆            ┆         ┆ 00:00:00  ┆       │\n",
       "│ 263.865723 ┆ -365.83935 ┆ -91.384766 ┆ 81.645996  ┆ … ┆ 973.723633 ┆ SP      ┆ 2023-08-2 ┆ false │\n",
       "│            ┆ 5          ┆            ┆            ┆   ┆            ┆         ┆ 7         ┆       │\n",
       "│            ┆            ┆            ┆            ┆   ┆            ┆         ┆ 00:00:00  ┆       │\n",
       "└────────────┴────────────┴────────────┴────────────┴───┴────────────┴─────────┴───────────┴───────┘"
      ]
     },
     "execution_count": 88,
     "metadata": {},
     "output_type": "execute_result"
    }
   ],
   "source": [
    "predictions.filter(~pl.col('mono'))"
   ]
  },
  {
   "cell_type": "markdown",
   "id": "f9b4cbed-780b-44d2-ba07-278a0965bd86",
   "metadata": {},
   "source": [
    "In this case, we do. Therefore, we must adjust our predictions.\n",
    "\n",
    "### Method 1: Sorting\n",
    "In this method, we sort the values, and re-attribute the quantiles based on this sorting.\n",
    "For the already monotonic cases, nothing will change. For non-monotonic, we will get a proper quantile collection."
   ]
  },
  {
   "cell_type": "code",
   "execution_count": 199,
   "id": "9e175edf-5c18-4c95-8145-00c7e7ce70e0",
   "metadata": {},
   "outputs": [
    {
     "name": "stderr",
     "output_type": "stream",
     "text": [
      "/var/folders/sz/kh2xcmy51n70hznv18vzsqxr0000gn/T/ipykernel_96083/3508894041.py:8: MapWithoutReturnDtypeWarning: Calling `map_elements` without specifying `return_dtype` can lead to unpredictable results. Specify `return_dtype` to silence this warning.\n",
      "  pred = predictions.with_columns(\n"
     ]
    }
   ],
   "source": [
    "def sort_quantiles(row: dict, prepend='s') -> dict:\n",
    "    quantile_cols =  [\"0.1\",\"0.2\",\"0.3\",\"0.4\",\"0.5\",\"0.6\",\"0.7\",\"0.8\",\"0.9\"]\n",
    "    # extract quantile values\n",
    "    sorted_vals = sorted(row[q] for q in quantile_cols)\n",
    "    # return a dict mapping back to the same columns\n",
    "    return {prepend+col: val for col, val in zip(quantile_cols, sorted_vals)}\n",
    "\n",
    "pred = predictions.with_columns(\n",
    "    pl.struct(qs).map_elements(sort_quantiles).alias(\"sorted_struct\")\n",
    ").unnest(\"sorted_struct\")\n",
    "\n",
    "sqs = ['s'+q for q in qs]\n",
    "pred = pred.with_columns(\n",
    "    pl.struct(pred.columns)\n",
    "        .map_elements(lambda row: check_monotonicity(row,sqs),return_dtype=bool).alias('mono')\n",
    ")"
   ]
  },
  {
   "cell_type": "markdown",
   "id": "8a83bf9f-f19a-4b85-a7d5-177db7b9205f",
   "metadata": {},
   "source": [
    "### Check if the sorting worked "
   ]
  },
  {
   "cell_type": "code",
   "execution_count": 200,
   "id": "ca3d2a7f-4e10-4bcf-96fa-e8a47208f27a",
   "metadata": {},
   "outputs": [
    {
     "name": "stdout",
     "output_type": "stream",
     "text": [
      "True\n"
     ]
    },
    {
     "data": {
      "text/html": [
       "<div><style>\n",
       ".dataframe > thead > tr,\n",
       ".dataframe > tbody > tr {\n",
       "  text-align: right;\n",
       "  white-space: pre-wrap;\n",
       "}\n",
       "</style>\n",
       "<small>shape: (0, 28)</small><table border=\"1\" class=\"dataframe\"><thead><tr><th>mean</th><th>0.1</th><th>0.2</th><th>0.3</th><th>0.4</th><th>0.5</th><th>0.6</th><th>0.7</th><th>0.8</th><th>0.9</th><th>item_id</th><th>timestamp</th><th>mono</th><th>0.25</th><th>0.75</th><th>0.05</th><th>0.95</th><th>0.025</th><th>0.975</th><th>s0.1</th><th>s0.2</th><th>s0.3</th><th>s0.4</th><th>s0.5</th><th>s0.6</th><th>s0.7</th><th>s0.8</th><th>s0.9</th></tr><tr><td>f32</td><td>f64</td><td>f32</td><td>f32</td><td>f32</td><td>f32</td><td>f32</td><td>f32</td><td>f32</td><td>f64</td><td>str</td><td>datetime[ms]</td><td>bool</td><td>f64</td><td>f64</td><td>f64</td><td>f64</td><td>f64</td><td>f64</td><td>f64</td><td>f64</td><td>f64</td><td>f64</td><td>f64</td><td>f64</td><td>f64</td><td>f64</td><td>f64</td></tr></thead><tbody></tbody></table></div>"
      ],
      "text/plain": [
       "shape: (0, 28)\n",
       "┌──────┬─────┬─────┬─────┬───┬──────┬──────┬──────┬──────┐\n",
       "│ mean ┆ 0.1 ┆ 0.2 ┆ 0.3 ┆ … ┆ s0.6 ┆ s0.7 ┆ s0.8 ┆ s0.9 │\n",
       "│ ---  ┆ --- ┆ --- ┆ --- ┆   ┆ ---  ┆ ---  ┆ ---  ┆ ---  │\n",
       "│ f32  ┆ f64 ┆ f32 ┆ f32 ┆   ┆ f64  ┆ f64  ┆ f64  ┆ f64  │\n",
       "╞══════╪═════╪═════╪═════╪═══╪══════╪══════╪══════╪══════╡\n",
       "└──────┴─────┴─────┴─────┴───┴──────┴──────┴──────┴──────┘"
      ]
     },
     "execution_count": 200,
     "metadata": {},
     "output_type": "execute_result"
    }
   ],
   "source": [
    "# Check if the sum of the orignal quantiles matches with the sorted\n",
    "print(len(pred.with_columns(\n",
    "    pl.sum_horizontal([pl.col(q) for q in qs]).alias('row_sum'),\n",
    "    pl.sum_horizontal([pl.col('s'+q) for q in qs]).alias('row_sum2'),\n",
    ").filter(\n",
    "    np.abs(pl.col('row_sum') - pl.col('row_sum2')) > 0.1\n",
    ")) == 0)\n",
    "\n",
    "\n",
    "# Check if all are monotonic\n",
    "pred.filter(~pl.col('mono'))"
   ]
  },
  {
   "cell_type": "markdown",
   "id": "a6a95a14-5f7d-4cf1-9a2d-aae37423bc25",
   "metadata": {},
   "source": [
    "#### Renaming sorted quantiles to the original."
   ]
  },
  {
   "cell_type": "code",
   "execution_count": 201,
   "id": "fe5df5d2-fcbb-4c05-a6a6-7861cbc565c1",
   "metadata": {},
   "outputs": [],
   "source": [
    "predictions = pred.drop(qs).rename({f's{q}': q for q in qs})"
   ]
  },
  {
   "cell_type": "markdown",
   "id": "b4f437a0-d2a9-4867-8255-5baa11a4181c",
   "metadata": {},
   "source": [
    "Autogluon computes quantiles 0.1,0.2,...,0.9, so we need to convert them to the intervals required by the sprint.\n",
    "We use simple linear interpolation/extrapolation."
   ]
  },
  {
   "cell_type": "code",
   "execution_count": 205,
   "id": "18d0b9bc-7a63-4280-8d11-fff2b62ab088",
   "metadata": {},
   "outputs": [],
   "source": [
    "for q in np.hstack(quantiles):\n",
    "    predictions = predictions.with_columns(\n",
    "        pl.struct(predictions.columns).map_elements(lambda row: estimate_quantile(row, target_quantile=q),return_dtype=float).alias(str(q))\n",
    "    )"
   ]
  },
  {
   "cell_type": "code",
   "execution_count": 207,
   "id": "016c6fd7-c1ec-476f-82a7-edbf399057d2",
   "metadata": {},
   "outputs": [
    {
     "data": {
      "text/html": [
       "<div><style>\n",
       ".dataframe > thead > tr,\n",
       ".dataframe > tbody > tr {\n",
       "  text-align: right;\n",
       "  white-space: pre-wrap;\n",
       "}\n",
       "</style>\n",
       "<small>shape: (1_836, 19)</small><table border=\"1\" class=\"dataframe\"><thead><tr><th>mean</th><th>item_id</th><th>timestamp</th><th>mono</th><th>0.25</th><th>0.75</th><th>0.05</th><th>0.95</th><th>0.025</th><th>0.975</th><th>0.1</th><th>0.2</th><th>0.3</th><th>0.4</th><th>0.5</th><th>0.6</th><th>0.7</th><th>0.8</th><th>0.9</th></tr><tr><td>f32</td><td>str</td><td>datetime[ms]</td><td>bool</td><td>f64</td><td>f64</td><td>f64</td><td>f64</td><td>f64</td><td>f64</td><td>f64</td><td>f64</td><td>f64</td><td>f64</td><td>f64</td><td>f64</td><td>f64</td><td>f64</td><td>f64</td></tr></thead><tbody><tr><td>32.646072</td><td>&quot;AC&quot;</td><td>2022-06-26 00:00:00</td><td>true</td><td>19.80246</td><td>44.014046</td><td>3.60585</td><td>64.790176</td><td>1.427971</td><td>67.74604</td><td>7.961609</td><td>16.673126</td><td>22.931793</td><td>28.160172</td><td>32.646072</td><td>36.753967</td><td>40.973099</td><td>47.054993</td><td>58.878448</td></tr><tr><td>31.444885</td><td>&quot;AC&quot;</td><td>2022-07-03 00:00:00</td><td>true</td><td>18.135551</td><td>43.152397</td><td>0.296234</td><td>65.393326</td><td>-2.152435</td><td>68.670807</td><td>5.193573</td><td>14.988251</td><td>21.282852</td><td>26.381317</td><td>31.444885</td><td>35.775024</td><td>40.576355</td><td>45.728439</td><td>58.838364</td></tr><tr><td>29.168777</td><td>&quot;AC&quot;</td><td>2022-07-10 00:00:00</td><td>true</td><td>15.024055</td><td>41.199455</td><td>-3.119896</td><td>66.7976</td><td>-5.603642</td><td>70.57188</td><td>1.847595</td><td>11.782578</td><td>18.265533</td><td>24.15863</td><td>29.168777</td><td>34.275879</td><td>38.246994</td><td>44.151917</td><td>59.249039</td></tr><tr><td>28.488434</td><td>&quot;AC&quot;</td><td>2022-07-17 00:00:00</td><td>true</td><td>14.088104</td><td>39.98996</td><td>-2.910408</td><td>66.651703</td><td>-5.170055</td><td>70.648285</td><td>1.608887</td><td>10.647476</td><td>17.528732</td><td>23.252213</td><td>28.488434</td><td>33.140259</td><td>37.307709</td><td>42.672211</td><td>58.658539</td></tr><tr><td>27.669281</td><td>&quot;AC&quot;</td><td>2022-07-24 00:00:00</td><td>true</td><td>13.28801</td><td>37.143944</td><td>-4.84227</td><td>63.391685</td><td>-7.314262</td><td>67.424953</td><td>0.101715</td><td>9.989685</td><td>16.586334</td><td>22.762085</td><td>27.669281</td><td>31.898636</td><td>35.09581</td><td>39.192078</td><td>55.32515</td></tr><tr><td>&hellip;</td><td>&hellip;</td><td>&hellip;</td><td>&hellip;</td><td>&hellip;</td><td>&hellip;</td><td>&hellip;</td><td>&hellip;</td><td>&hellip;</td><td>&hellip;</td><td>&hellip;</td><td>&hellip;</td><td>&hellip;</td><td>&hellip;</td><td>&hellip;</td><td>&hellip;</td><td>&hellip;</td><td>&hellip;</td><td>&hellip;</td></tr><tr><td>27.878174</td><td>&quot;TO&quot;</td><td>2023-09-10 00:00:00</td><td>true</td><td>6.007065</td><td>64.427376</td><td>-22.681458</td><td>163.52887</td><td>-26.607674</td><td>177.967712</td><td>-14.829025</td><td>0.875839</td><td>11.13829</td><td>19.444809</td><td>27.878174</td><td>37.506454</td><td>51.958939</td><td>76.895813</td><td>134.651184</td></tr><tr><td>24.473618</td><td>&quot;TO&quot;</td><td>2023-09-17 00:00:00</td><td>true</td><td>13.824799</td><td>32.799904</td><td>0.371727</td><td>38.278351</td><td>-1.440365</td><td>38.927322</td><td>3.995911</td><td>11.244278</td><td>16.405319</td><td>20.701416</td><td>24.473618</td><td>27.866333</td><td>31.215286</td><td>34.384521</td><td>36.980408</td></tr><tr><td>26.049774</td><td>&quot;TO&quot;</td><td>2023-09-24 00:00:00</td><td>true</td><td>14.813858</td><td>33.688805</td><td>1.061951</td><td>40.015953</td><td>-0.781769</td><td>40.886822</td><td>4.74939</td><td>12.124268</td><td>17.503448</td><td>21.985672</td><td>26.049774</td><td>29.365356</td><td>32.586868</td><td>34.790741</td><td>38.274216</td></tr><tr><td>26.676178</td><td>&quot;TO&quot;</td><td>2023-10-01 00:00:00</td><td>true</td><td>15.061493</td><td>35.624428</td><td>0.843765</td><td>44.597694</td><td>-1.075714</td><td>45.814091</td><td>4.682724</td><td>12.360641</td><td>17.762344</td><td>22.460037</td><td>26.676178</td><td>30.686005</td><td>33.949539</td><td>37.299316</td><td>42.164902</td></tr><tr><td>30.217361</td><td>&quot;TO&quot;</td><td>2023-10-08 00:00:00</td><td>true</td><td>18.090607</td><td>40.150269</td><td>3.739754</td><td>52.780888</td><td>1.816174</td><td>54.596865</td><td>7.586914</td><td>15.281235</td><td>20.899979</td><td>25.867172</td><td>30.217361</td><td>34.390778</td><td>38.415512</td><td>41.885025</td><td>49.148933</td></tr></tbody></table></div>"
      ],
      "text/plain": [
       "shape: (1_836, 19)\n",
       "┌───────────┬─────────┬────────────────┬──────┬───┬───────────┬───────────┬───────────┬────────────┐\n",
       "│ mean      ┆ item_id ┆ timestamp      ┆ mono ┆ … ┆ 0.6       ┆ 0.7       ┆ 0.8       ┆ 0.9        │\n",
       "│ ---       ┆ ---     ┆ ---            ┆ ---  ┆   ┆ ---       ┆ ---       ┆ ---       ┆ ---        │\n",
       "│ f32       ┆ str     ┆ datetime[ms]   ┆ bool ┆   ┆ f64       ┆ f64       ┆ f64       ┆ f64        │\n",
       "╞═══════════╪═════════╪════════════════╪══════╪═══╪═══════════╪═══════════╪═══════════╪════════════╡\n",
       "│ 32.646072 ┆ AC      ┆ 2022-06-26     ┆ true ┆ … ┆ 36.753967 ┆ 40.973099 ┆ 47.054993 ┆ 58.878448  │\n",
       "│           ┆         ┆ 00:00:00       ┆      ┆   ┆           ┆           ┆           ┆            │\n",
       "│ 31.444885 ┆ AC      ┆ 2022-07-03     ┆ true ┆ … ┆ 35.775024 ┆ 40.576355 ┆ 45.728439 ┆ 58.838364  │\n",
       "│           ┆         ┆ 00:00:00       ┆      ┆   ┆           ┆           ┆           ┆            │\n",
       "│ 29.168777 ┆ AC      ┆ 2022-07-10     ┆ true ┆ … ┆ 34.275879 ┆ 38.246994 ┆ 44.151917 ┆ 59.249039  │\n",
       "│           ┆         ┆ 00:00:00       ┆      ┆   ┆           ┆           ┆           ┆            │\n",
       "│ 28.488434 ┆ AC      ┆ 2022-07-17     ┆ true ┆ … ┆ 33.140259 ┆ 37.307709 ┆ 42.672211 ┆ 58.658539  │\n",
       "│           ┆         ┆ 00:00:00       ┆      ┆   ┆           ┆           ┆           ┆            │\n",
       "│ 27.669281 ┆ AC      ┆ 2022-07-24     ┆ true ┆ … ┆ 31.898636 ┆ 35.09581  ┆ 39.192078 ┆ 55.32515   │\n",
       "│           ┆         ┆ 00:00:00       ┆      ┆   ┆           ┆           ┆           ┆            │\n",
       "│ …         ┆ …       ┆ …              ┆ …    ┆ … ┆ …         ┆ …         ┆ …         ┆ …          │\n",
       "│ 27.878174 ┆ TO      ┆ 2023-09-10     ┆ true ┆ … ┆ 37.506454 ┆ 51.958939 ┆ 76.895813 ┆ 134.651184 │\n",
       "│           ┆         ┆ 00:00:00       ┆      ┆   ┆           ┆           ┆           ┆            │\n",
       "│ 24.473618 ┆ TO      ┆ 2023-09-17     ┆ true ┆ … ┆ 27.866333 ┆ 31.215286 ┆ 34.384521 ┆ 36.980408  │\n",
       "│           ┆         ┆ 00:00:00       ┆      ┆   ┆           ┆           ┆           ┆            │\n",
       "│ 26.049774 ┆ TO      ┆ 2023-09-24     ┆ true ┆ … ┆ 29.365356 ┆ 32.586868 ┆ 34.790741 ┆ 38.274216  │\n",
       "│           ┆         ┆ 00:00:00       ┆      ┆   ┆           ┆           ┆           ┆            │\n",
       "│ 26.676178 ┆ TO      ┆ 2023-10-01     ┆ true ┆ … ┆ 30.686005 ┆ 33.949539 ┆ 37.299316 ┆ 42.164902  │\n",
       "│           ┆         ┆ 00:00:00       ┆      ┆   ┆           ┆           ┆           ┆            │\n",
       "│ 30.217361 ┆ TO      ┆ 2023-10-08     ┆ true ┆ … ┆ 34.390778 ┆ 38.415512 ┆ 41.885025 ┆ 49.148933  │\n",
       "│           ┆         ┆ 00:00:00       ┆      ┆   ┆           ┆           ┆           ┆            │\n",
       "└───────────┴─────────┴────────────────┴──────┴───┴───────────┴───────────┴───────────┴────────────┘"
      ]
     },
     "execution_count": 207,
     "metadata": {},
     "output_type": "execute_result"
    }
   ],
   "source": [
    "predictions"
   ]
  },
  {
   "cell_type": "code",
   "execution_count": 221,
   "id": "4f6a0bbb-dc88-4a05-a7a8-2c03427e7d4d",
   "metadata": {},
   "outputs": [
    {
     "data": {
      "text/html": [
       "\n",
       "            <div id=\"Wvk0ql\"></div>\n",
       "            <script type=\"text/javascript\" data-lets-plot-script=\"library\">\n",
       "                if(!window.letsPlotCallQueue) {\n",
       "                    window.letsPlotCallQueue = [];\n",
       "                }; \n",
       "                window.letsPlotCall = function(f) {\n",
       "                    window.letsPlotCallQueue.push(f);\n",
       "                };\n",
       "                (function() {\n",
       "                    var script = document.createElement(\"script\");\n",
       "                    script.type = \"text/javascript\";\n",
       "                    script.src = \"https://cdn.jsdelivr.net/gh/JetBrains/lets-plot@v4.6.2/js-package/distr/lets-plot.min.js\";\n",
       "                    script.onload = function() {\n",
       "                        window.letsPlotCall = function(f) {f();};\n",
       "                        window.letsPlotCallQueue.forEach(function(f) {f();});\n",
       "                        window.letsPlotCallQueue = [];\n",
       "                        \n",
       "                    };\n",
       "                    script.onerror = function(event) {\n",
       "                        window.letsPlotCall = function(f) {};    // noop\n",
       "                        window.letsPlotCallQueue = [];\n",
       "                        var div = document.createElement(\"div\");\n",
       "                        div.style.color = 'darkred';\n",
       "                        div.textContent = 'Error loading Lets-Plot JS';\n",
       "                        document.getElementById(\"Wvk0ql\").appendChild(div);\n",
       "                    };\n",
       "                    var e = document.getElementById(\"Wvk0ql\");\n",
       "                    e.appendChild(script);\n",
       "                })()\n",
       "            </script>\n",
       "            "
      ]
     },
     "metadata": {},
     "output_type": "display_data"
    },
    {
     "data": {
      "text/html": [
       "   <div id=\"Vrz0ZP\"></div>\n",
       "   <script type=\"text/javascript\" data-lets-plot-script=\"plot\">\n",
       "   \n",
       "   (function() {\n",
       "   // ----------\n",
       "   \n",
       "   const forceImmediateRender = false;\n",
       "   const responsive = false;\n",
       "   \n",
       "   let sizing = {\n",
       "       width_mode: \"MIN\",\n",
       "       height_mode: \"SCALED\",\n",
       "       width: null, \n",
       "       height: null \n",
       "   };\n",
       "   \n",
       "   const preferredWidth = document.body.dataset.letsPlotPreferredWidth;\n",
       "   if (preferredWidth !== undefined) {\n",
       "       sizing = {\n",
       "           width_mode: 'FIXED',\n",
       "           height_mode: 'SCALED',\n",
       "           width: parseFloat(preferredWidth)\n",
       "       };\n",
       "   }\n",
       "   \n",
       "   const containerDiv = document.getElementById(\"Vrz0ZP\");\n",
       "   let fig = null;\n",
       "   \n",
       "   function renderPlot() {\n",
       "       if (fig === null) {\n",
       "           const plotSpec = {\n",
       "\"data\":{\n",
       "\"q\":[0.25,0.75,0.05,0.95,0.025,0.975,0.1,0.2,0.3,0.4,0.5,0.6,0.7,0.8,0.9],\n",
       "\"y\":[14.088104248046875,39.989959716796875,-2.9104080200195313,66.65170288085936,-5.170055389404298,70.64828491210938,1.60888671875,10.647476196289063,17.528732299804688,23.252212524414063,28.488433837890625,33.1402587890625,37.307708740234375,42.672210693359375,58.658538818359375],\n",
       "\"new_q\":[true,true,true,true,true,true,false,false,false,false,false,false,false,false,false]\n",
       "},\n",
       "\"mapping\":{\n",
       "},\n",
       "\"data_meta\":{\n",
       "\"series_annotations\":[{\n",
       "\"type\":\"float\",\n",
       "\"column\":\"q\"\n",
       "},{\n",
       "\"type\":\"float\",\n",
       "\"column\":\"y\"\n",
       "},{\n",
       "\"type\":\"bool\",\n",
       "\"column\":\"new_q\"\n",
       "}]\n",
       "},\n",
       "\"kind\":\"plot\",\n",
       "\"scales\":[],\n",
       "\"layers\":[{\n",
       "\"geom\":\"line\",\n",
       "\"mapping\":{\n",
       "\"x\":\"q\",\n",
       "\"y\":\"y\"\n",
       "},\n",
       "\"data_meta\":{\n",
       "},\n",
       "\"color\":\"blue\",\n",
       "\"data\":{\n",
       "}\n",
       "},{\n",
       "\"geom\":\"point\",\n",
       "\"mapping\":{\n",
       "\"x\":\"q\",\n",
       "\"y\":\"y\",\n",
       "\"color\":\"new_q\"\n",
       "},\n",
       "\"data_meta\":{\n",
       "},\n",
       "\"data\":{\n",
       "}\n",
       "}],\n",
       "\"metainfo_list\":[],\n",
       "\"spec_id\":\"21\"\n",
       "};\n",
       "           window.letsPlotCall(function() { fig = LetsPlot.buildPlotFromProcessedSpecs(plotSpec, containerDiv, sizing); });\n",
       "       } else {\n",
       "           fig.updateView({});\n",
       "       }\n",
       "   }\n",
       "   \n",
       "   const renderImmediately = \n",
       "       forceImmediateRender || (\n",
       "           sizing.width_mode === 'FIXED' && \n",
       "           (sizing.height_mode === 'FIXED' || sizing.height_mode === 'SCALED')\n",
       "       );\n",
       "   \n",
       "   if (renderImmediately) {\n",
       "       renderPlot();\n",
       "   }\n",
       "   \n",
       "   if (!renderImmediately || responsive) {\n",
       "       // Set up observer for initial sizing or continuous monitoring\n",
       "       var observer = new ResizeObserver(function(entries) {\n",
       "           for (let entry of entries) {\n",
       "               if (entry.contentBoxSize && \n",
       "                   entry.contentBoxSize[0].inlineSize > 0) {\n",
       "                   if (!responsive && observer) {\n",
       "                       observer.disconnect();\n",
       "                       observer = null;\n",
       "                   }\n",
       "                   renderPlot();\n",
       "                   if (!responsive) {\n",
       "                       break;\n",
       "                   }\n",
       "               }\n",
       "           }\n",
       "       });\n",
       "       \n",
       "       observer.observe(containerDiv);\n",
       "   }\n",
       "   \n",
       "   // ----------\n",
       "   })();\n",
       "   \n",
       "   </script>"
      ],
      "text/plain": [
       "<lets_plot.plot.core.PlotSpec at 0x14ec17dd0>"
      ]
     },
     "execution_count": 221,
     "metadata": {},
     "output_type": "execute_result"
    }
   ],
   "source": [
    "from lets_plot import *\n",
    "LetsPlot.setup_html()\n",
    "\n",
    "i = 3\n",
    "pred = predictions.drop(['mono','mean','item_id','timestamp'])[i]\n",
    "pred = pred.unpivot().rename({'variable':'q','value':'y'})\n",
    "pred = pred.with_columns(\n",
    "    (~pl.col('q').is_in(qs)).alias('new_q'),\n",
    "    pl.col('q').cast(pl.Float64)\n",
    ")\n",
    "\n",
    "(\n",
    "    ggplot(data=pred)\n",
    "    + geom_line(aes(x='q', y='y'), color='blue')\n",
    "    + geom_point(aes(x='q', y='y',color='new_q'))\n",
    ")"
   ]
  },
  {
   "cell_type": "code",
   "execution_count": null,
   "id": "a3bcca7f-c168-40e6-972a-8ee9f2d5d840",
   "metadata": {},
   "outputs": [],
   "source": []
  }
 ],
 "metadata": {
  "kernelspec": {
   "display_name": "sprint2025",
   "language": "python",
   "name": "sprint2025"
  },
  "language_info": {
   "codemirror_mode": {
    "name": "ipython",
    "version": 3
   },
   "file_extension": ".py",
   "mimetype": "text/x-python",
   "name": "python",
   "nbconvert_exporter": "python",
   "pygments_lexer": "ipython3",
   "version": "3.11.11"
  }
 },
 "nbformat": 4,
 "nbformat_minor": 5
}
