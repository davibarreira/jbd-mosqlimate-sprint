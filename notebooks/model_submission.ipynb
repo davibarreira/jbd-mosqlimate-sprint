{
 "cells": [
  {
   "cell_type": "code",
   "execution_count": 3,
   "id": "1bb0e9b4-cc96-403f-a22d-0371ebc0b559",
   "metadata": {},
   "outputs": [],
   "source": [
    "import numpy as np\n",
    "import polars as pl\n",
    "import os\n",
    "from dotenv import load_dotenv\n",
    "load_dotenv()\n",
    "\n",
    "api_key = os.getenv(\"API_KEY\")\n",
    "\n",
    "import mosqlient as mosq"
   ]
  },
  {
   "cell_type": "code",
   "execution_count": 5,
   "id": "ad4ffa7a-21c4-45a8-9b2d-263d02856bd9",
   "metadata": {},
   "outputs": [],
   "source": [
    "name = \"2025 sprint - AutoGluon Chronos Baseline\"\n",
    "description = \"Testing registry to sprint 2025 using baseline model.\"\n",
    "repository = \"https://github.com/davibarreira/jbd-mosqlimate-sprint\"\n",
    "implementation_language = \"Python\"\n",
    "disease = \"dengue\"\n",
    "temporal = True\n",
    "spatial = True\n",
    "categorical = False\n",
    "adm_level = 1\n",
    "time_resolution = \"week\"\n",
    "sprint = True\n",
    "\n",
    "\n"
   ]
  },
  {
   "cell_type": "markdown",
   "id": "427c4c13-5e2d-46cd-bff0-e1a4fae4d121",
   "metadata": {},
   "source": [
    "## Uncomment and Run in order to upload model to Mosqlimate\n",
    "Note that models submitted to the sprint cannot be deleted."
   ]
  },
  {
   "cell_type": "code",
   "execution_count": 6,
   "id": "0badc73b-2ab3-44b8-b60e-e30872a22d73",
   "metadata": {},
   "outputs": [],
   "source": [
    "# model = mosq.upload_model(\n",
    "#     api_key=api_key,\n",
    "#     name=name,\n",
    "#     description=description,\n",
    "#     repository=repository,\n",
    "#     implementation_language=implementation_language,\n",
    "#     disease=disease,\n",
    "#     temporal=temporal,\n",
    "#     spatial=spatial,\n",
    "#     categorical=categorical,\n",
    "#     adm_level=adm_level,\n",
    "#     time_resolution=time_resolution,\n",
    "#     sprint=sprint\n",
    "# )"
   ]
  },
  {
   "cell_type": "code",
   "execution_count": null,
   "id": "a1fc75ef-246a-4c21-b98e-735f2bc4a7f2",
   "metadata": {},
   "outputs": [],
   "source": []
  }
 ],
 "metadata": {
  "kernelspec": {
   "display_name": "sprint2025",
   "language": "python",
   "name": "sprint2025"
  },
  "language_info": {
   "codemirror_mode": {
    "name": "ipython",
    "version": 3
   },
   "file_extension": ".py",
   "mimetype": "text/x-python",
   "name": "python",
   "nbconvert_exporter": "python",
   "pygments_lexer": "ipython3",
   "version": "3.11.11"
  }
 },
 "nbformat": 4,
 "nbformat_minor": 5
}
